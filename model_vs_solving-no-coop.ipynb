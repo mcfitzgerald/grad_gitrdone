{
 "cells": [
  {
   "cell_type": "code",
   "execution_count": 1,
   "metadata": {},
   "outputs": [],
   "source": [
    "import numpy as np\n",
    "import scipy as sp\n",
    "from scipy import optimize\n",
    "from scipy import stats\n",
    "from scipy import signal\n",
    "import matplotlib.pyplot as plt\n",
    "%matplotlib inline"
   ]
  },
  {
   "cell_type": "code",
   "execution_count": 2,
   "metadata": {},
   "outputs": [],
   "source": [
    "def dilser(low=0.001, limit=100., dilfactor=2.):\n",
    "    '''returns a numpy array dilution series from low to limit'''\n",
    "    #replace this with a generator/iterator someday\n",
    "    a = [low]\n",
    "    while a[-1] <= limit:\n",
    "        a.append(a[len(a)-1]*dilfactor)\n",
    "    return np.array(a)"
   ]
  },
  {
   "cell_type": "code",
   "execution_count": 3,
   "metadata": {},
   "outputs": [],
   "source": [
    "def binterval(k):\n",
    "    '''takes apparent binding constent and builds lig series around it (2 log intervals on either end)'''\n",
    "    low = (1/k)/1000\n",
    "    limit = (1/k)*100\n",
    "    return dilser(low=low,limit=limit)"
   ]
  },
  {
   "cell_type": "code",
   "execution_count": 4,
   "metadata": {},
   "outputs": [],
   "source": [
    "def loguniform(low=0, high=1, size=None, base=np.exp(1)):\n",
    "    return np.power(base, np.random.uniform(low, high, size))"
   ]
  },
  {
   "cell_type": "code",
   "execution_count": 5,
   "metadata": {},
   "outputs": [],
   "source": [
    "def randomparms(pop):\n",
    "    return ((np.random.lognormal(size=4)*np.random.choice(pop,4)) * (loguniform(size=4)/10))"
   ]
  },
  {
   "cell_type": "code",
   "execution_count": 6,
   "metadata": {},
   "outputs": [],
   "source": [
    "def guessgen(length,lowmag=-3,himag=3,base=10):\n",
    "    return tuple(lognuniform(low=lowmag,high=himag,base=base) for i in range(length))"
   ]
  },
  {
   "cell_type": "code",
   "execution_count": 7,
   "metadata": {},
   "outputs": [],
   "source": [
    "def colroots(data,ligs): \n",
    "    holder = []\n",
    "    for i in range(len(ligs)):\n",
    "        temp = data[:,i]\n",
    "        roots,counts = np.unique(temp,return_counts=True)\n",
    "        posroots = roots[roots>0]\n",
    "        poscounts = counts[roots>0]\n",
    "        clctd = np.stack((posroots,poscounts),axis=1)\n",
    "        clctd = clctd[(-1*clctd[:,1]).argsort()]\n",
    "        holder.append(clctd[:3]) #only take top 3 (or fewer) guesses\n",
    "    return holder"
   ]
  },
  {
   "cell_type": "code",
   "execution_count": 8,
   "metadata": {},
   "outputs": [],
   "source": [
    "def wymsol(var,parm,rtot,ltot):\n",
    "    \n",
    "    k11 = parm[0]\n",
    "    k21 = parm[1]\n",
    "    k22 = parm[2]\n",
    "    l20 = parm[3]\n",
    "    \n",
    "    (L, M, MM, ML, MML, MMLL) = var\n",
    "    \n",
    "    eq1 = (M + 2*MM + ML + 2*MML + 2*MMLL) - rtot\n",
    "    eq2 = (L + ML + MML + 2*MMLL) - ltot\n",
    "    eq3 = (l20 * M*M) - MM\n",
    "    eq4 = (k11 * L * M) - ML\n",
    "    eq5 = (l20 * k21 * M*M * L) - MML\n",
    "    eq6 = (k22 * L * MML) - MMLL\n",
    "    \n",
    "    return np.array([eq1,eq2,eq3,eq4,eq5,eq6])"
   ]
  },
  {
   "cell_type": "code",
   "execution_count": 9,
   "metadata": {},
   "outputs": [],
   "source": [
    "def wym_obj(guess,model,data,ligs,rtot):\n",
    "    datac = np.concatenate(data)\n",
    "    return (model(guess,ligs,rtot)-datac)\n",
    "\n",
    "def fit_wym(guess,model,data,ligs,rtot,bnds,loss='linear'):\n",
    "        return sp.optimize.least_squares(wym_obj,guess,args=(model,data,ligs,rtot),bounds=bnds,method='trf',ftol=1e-14,gtol=1e-14,xtol=1e-14,loss=loss)"
   ]
  },
  {
   "cell_type": "code",
   "execution_count": 10,
   "metadata": {},
   "outputs": [],
   "source": [
    "def wymfunc(parm,lig,rtot):\n",
    "    '''\n",
    "    Model function for dimerizing, single-site receptors as derived in\n",
    "    (Wyman and Gill, Binding and Linkage, 1990) and used by\n",
    "    (Macdonald and Pike, ...EGF-binding...negative cooperativity...aggregating system, 2008).\n",
    "    Takes numpy array of parameters [k11,k21,k22,l20], numpy array of free ligand concentrations,\n",
    "    and total receptor concentration. Returns the fraction of receptor bound to ligand.\n",
    "\n",
    "    To generate a data set, iterate over an array of desired receptor concentrations, e.g.:\n",
    "    [wymfunc(parm,lig,i) for i in array_of_rtots]\n",
    "\n",
    "    For use in curve fitting an objective function for use with scipy.optimize.least_squares\n",
    "    is readily constructed as: (wymfun(parm_guess,lig,rtot) - actual_data)\n",
    "    '''\n",
    "\n",
    "    #ensure dimension/broadcasting compatibility of inputs\n",
    "    if ((rtot.ndim > 0) and (rtot.ndim != lig.ndim)):\n",
    "        rtot = rtot[:,None] #adds dimension so that it can be broadcast\n",
    "    else:\n",
    "        rtot = rtot\n",
    "\n",
    "    #unpack parameters\n",
    "    k11 = parm[0]\n",
    "    k21 = parm[1]\n",
    "    k22 = parm[2]\n",
    "    l20 = parm[3]\n",
    "\n",
    "    ### START MODEL FUNCTION ###\n",
    "\n",
    "    #calculate concentration of free (unoccupied) receptor\n",
    "    rfree = (((-1 - k11*lig)) + \\\n",
    "    ((np.square((1 + k11*lig)) + \\\n",
    "    8.*l20*rtot*(1 + k21*lig + k21*k22*(np.square(lig)))))**0.5) \\\n",
    "    / (4*l20*(1 + k21*lig + k21*k22*(np.square(lig))))\n",
    "\n",
    "    #calculate bound fraction\n",
    "    bfrac = (k11*lig + l20*k21*rfree*lig + \\\n",
    "    2*l20*k21*k22*rfree*(np.square(lig))) \\\n",
    "    / (1 + 2*l20*rfree + k11*lig + \\\n",
    "    2*l20*k21*rfree*lig + 2*l20*k21*k22*rfree*(np.square(lig)))\n",
    "\n",
    "    ### END MODEL FUNCTION ###\n",
    "\n",
    "    #flatten output\n",
    "    if ((rtot.ndim > 0) and (rtot.ndim != lig.ndim)):\n",
    "        return bfrac.flatten()\n",
    "    elif (rtot.ndim == 0):\n",
    "        return bfrac.flatten()\n",
    "    else:\n",
    "        return np.concatenate(bfrac)"
   ]
  },
  {
   "cell_type": "code",
   "execution_count": 11,
   "metadata": {},
   "outputs": [],
   "source": [
    "def wymfunc_fix(parm,lig,rtot):\n",
    "    '''\n",
    "    Model function for dimerizing, single-site receptors as derived in\n",
    "    (Wyman and Gill, Binding and Linkage, 1990) and used by\n",
    "    (Macdonald and Pike, ...EGF-binding...negative cooperativity...aggregating system, 2008).\n",
    "    Takes numpy array of parameters [k11,k21,k22,l20], numpy array of free ligand concentrations,\n",
    "    and total receptor concentration. Returns the fraction of receptor bound to ligand.\n",
    "\n",
    "    To generate a data set, iterate over an array of desired receptor concentrations, e.g.:\n",
    "    [wymfunc(parm,lig,i) for i in array_of_rtots]\n",
    "\n",
    "    For use in curve fitting an objective function for use with scipy.optimize.least_squares\n",
    "    is readily constructed as: (wymfun(parm_guess,lig,rtot) - actual_data)\n",
    "    '''\n",
    "\n",
    "    #ensure dimension/broadcasting compatibility of inputs\n",
    "    if ((rtot.ndim > 0) and (rtot.ndim != lig.ndim)):\n",
    "        rtot = rtot[:,None] #adds dimension so that it can be broadcast\n",
    "    else:\n",
    "        rtot = rtot\n",
    "\n",
    "    #unpack parameters\n",
    "    k11 = parm[0]\n",
    "    k21 = parm[1]\n",
    "    k22 = k21/4.\n",
    "    l20 = parm[2]\n",
    "\n",
    "    ### START MODEL FUNCTION ###\n",
    "\n",
    "    #calculate concentration of free (unoccupied) receptor\n",
    "    rfree = (((-1 - k11*lig)) + \\\n",
    "    ((np.square((1 + k11*lig)) + \\\n",
    "    8.*l20*rtot*(1 + k21*lig + k21*k22*(np.square(lig)))))**0.5) \\\n",
    "    / (4*l20*(1 + k21*lig + k21*k22*(np.square(lig))))\n",
    "\n",
    "    #calculate bound fraction\n",
    "    bfrac = (k11*lig + l20*k21*rfree*lig + \\\n",
    "    2*l20*k21*k22*rfree*(np.square(lig))) \\\n",
    "    / (1 + 2*l20*rfree + k11*lig + \\\n",
    "    2*l20*k21*rfree*lig + 2*l20*k21*k22*rfree*(np.square(lig)))\n",
    "\n",
    "    ### END MODEL FUNCTION ###\n",
    "\n",
    "    #flatten output\n",
    "    if ((rtot.ndim > 0) and (rtot.ndim != lig.ndim)):\n",
    "        return bfrac.flatten()\n",
    "    elif (rtot.ndim == 0):\n",
    "        return bfrac.flatten()\n",
    "    else:\n",
    "        return np.concatenate(bfrac)"
   ]
  },
  {
   "cell_type": "code",
   "execution_count": 12,
   "metadata": {},
   "outputs": [],
   "source": [
    "ligconcs = dilser(low=1e-4,limit=1e4,dilfactor=2)"
   ]
  },
  {
   "cell_type": "code",
   "execution_count": 13,
   "metadata": {},
   "outputs": [],
   "source": [
    "rtotwym = np.array([1e-3,1e-2,1e-1,1e0,1e1])"
   ]
  },
  {
   "cell_type": "code",
   "execution_count": 15,
   "metadata": {},
   "outputs": [],
   "source": [
    "parms = np.array([randomparms(np.array([0.001,0.01,.1,1.,10.,100.,1000.,10000.])) for i in range(1000)])"
   ]
  },
  {
   "cell_type": "code",
   "execution_count": 16,
   "metadata": {},
   "outputs": [],
   "source": [
    "parms_nocoop = parms.copy()\n",
    "parms_nocoop[:,2] = parms_nocoop[:,1]/4"
   ]
  },
  {
   "cell_type": "code",
   "execution_count": 17,
   "metadata": {},
   "outputs": [],
   "source": [
    "computed_bind = np.array([[wymfunc(j,ligconcs,i) for i in rtotwym] for j in parms_nocoop])"
   ]
  },
  {
   "cell_type": "code",
   "execution_count": 18,
   "metadata": {},
   "outputs": [
    {
     "data": {
      "text/plain": [
       "(1000, 5, 28)"
      ]
     },
     "execution_count": 18,
     "metadata": {},
     "output_type": "execute_result"
    }
   ],
   "source": [
    "computed_bind.shape"
   ]
  },
  {
   "cell_type": "code",
   "execution_count": 19,
   "metadata": {},
   "outputs": [
    {
     "data": {
      "image/png": "[encoded data removed]",
      "text/plain": [
       "<Figure size 432x288 with 1 Axes>"
      ]
     },
     "metadata": {},
     "output_type": "display_data"
    }
   ],
   "source": [
    "for i in computed_bind[54]:\n",
    "    plt.semilogx(ligconcs,i,'.')"
   ]
  },
  {
   "cell_type": "code",
   "execution_count": 21,
   "metadata": {},
   "outputs": [
    {
     "name": "stdout",
     "output_type": "stream",
     "text": [
      "[  2.75620718e+01   1.67759787e-03   4.19399469e-04   7.55672543e-01]\n"
     ]
    },
    {
     "data": {
      "image/png": "[encoded data removed]",
      "text/plain": [
       "<Figure size 432x288 with 1 Axes>"
      ]
     },
     "metadata": {},
     "output_type": "display_data"
    }
   ],
   "source": [
    "for i in range(3,4):\n",
    "    ind = 54\n",
    "    rebnd = computed_bind[ind] * rtotwym.reshape(-1,1)\n",
    "    plt.plot(rebnd[i],(rebnd[i]/ligconcs),'.')\n",
    "    print(parms_nocoop[ind])"
   ]
  },
  {
   "cell_type": "code",
   "execution_count": 22,
   "metadata": {},
   "outputs": [],
   "source": [
    "lsbnds = (tuple(1e-6 for i in range(4)),tuple(1e6 for i in range(4)))\n",
    "lsbnds_fix = (tuple(1e-6 for i in range(3)),tuple(1e6 for i in range(3)))"
   ]
  },
  {
   "cell_type": "code",
   "execution_count": 23,
   "metadata": {},
   "outputs": [],
   "source": [
    "fixed_guesses = np.concatenate([parms_nocoop[:,0:2],parms_nocoop[:,3:4]],axis=1)"
   ]
  },
  {
   "cell_type": "code",
   "execution_count": 390,
   "metadata": {},
   "outputs": [],
   "source": [
    "ind = 0\n",
    "dat = computed_bind[ind]\n",
    "guess = fixed_guesses[ind]\n",
    "rtot = rtotwym.reshape(-1,1)"
   ]
  },
  {
   "cell_type": "code",
   "execution_count": 391,
   "metadata": {},
   "outputs": [],
   "source": [
    "fit = fit_wym(guess,wymfunc_fix,dat,ligconcs,rtot,lsbnds_fix)"
   ]
  },
  {
   "cell_type": "code",
   "execution_count": 392,
   "metadata": {},
   "outputs": [
    {
     "data": {
      "text/plain": [
       "array([  8.32708233e-02,   6.28690016e-01,   1.35008217e+03])"
      ]
     },
     "execution_count": 392,
     "metadata": {},
     "output_type": "execute_result"
    }
   ],
   "source": [
    "fit.x"
   ]
  },
  {
   "cell_type": "code",
   "execution_count": 393,
   "metadata": {},
   "outputs": [
    {
     "data": {
      "text/plain": [
       "array([  8.32708233e-02,   6.28690016e-01,   1.35008217e+03])"
      ]
     },
     "execution_count": 393,
     "metadata": {},
     "output_type": "execute_result"
    }
   ],
   "source": [
    "guess"
   ]
  },
  {
   "cell_type": "code",
   "execution_count": 394,
   "metadata": {},
   "outputs": [],
   "source": [
    "ndata = np.abs(dat + np.random.normal(loc=0,scale=0.05,size=(data.shape)))"
   ]
  },
  {
   "cell_type": "code",
   "execution_count": 395,
   "metadata": {},
   "outputs": [
    {
     "data": {
      "image/png": "[encoded data removed]",
      "text/plain": [
       "<Figure size 432x288 with 1 Axes>"
      ]
     },
     "metadata": {},
     "output_type": "display_data"
    }
   ],
   "source": [
    "for i in ndata:\n",
    "    plt.semilogx(ligconcs,i,'.')"
   ]
  },
  {
   "cell_type": "code",
   "execution_count": 396,
   "metadata": {},
   "outputs": [],
   "source": [
    "nfit = fit_wym(guess,wymfunc_fix,ndata,ligconcs,rtot,lsbnds_fix)"
   ]
  },
  {
   "cell_type": "code",
   "execution_count": 397,
   "metadata": {},
   "outputs": [
    {
     "data": {
      "text/plain": [
       "array([  0.21175264,   0.62047947,  13.5829534 ])"
      ]
     },
     "execution_count": 397,
     "metadata": {},
     "output_type": "execute_result"
    }
   ],
   "source": [
    "nfit.x"
   ]
  },
  {
   "cell_type": "code",
   "execution_count": 398,
   "metadata": {},
   "outputs": [],
   "source": [
    "def ftest(fit1,fit2):\n",
    "    '''\n",
    "    fit1 is fit from simpler model\n",
    "    '''\n",
    "\n",
    "    SS1 = np.sum(np.square(fit1.fun))\n",
    "    SS2 = np.sum(np.square(fit2.fun))\n",
    "\n",
    "    DF1 = fit1.fun.shape[0] - fit1.x.shape[0]\n",
    "    DF2 = fit2.fun.shape[0] - fit2.x.shape[0]\n",
    "\n",
    "    F = ((SS1-SS2)/(DF1-DF2))/(SS2/DF2)\n",
    "\n",
    "    p = sp.stats.f.sf(F,(DF1-DF2),DF2)\n",
    "\n",
    "    return (SS1,SS2,DF1,DF2,F,p)"
   ]
  },
  {
   "cell_type": "code",
   "execution_count": 399,
   "metadata": {},
   "outputs": [],
   "source": [
    "ncb5 = np.abs(computed_bind + np.random.normal(loc=0,scale=0.025,size=(computed_bind.shape)))"
   ]
  },
  {
   "cell_type": "code",
   "execution_count": 400,
   "metadata": {},
   "outputs": [
    {
     "data": {
      "image/png": "[encoded data removed]",
      "text/plain": [
       "<Figure size 432x288 with 1 Axes>"
      ]
     },
     "metadata": {},
     "output_type": "display_data"
    }
   ],
   "source": [
    "for i in ncb5[1]:\n",
    "    plt.semilogx(ligconcs,i,'.')"
   ]
  },
  {
   "cell_type": "code",
   "execution_count": 401,
   "metadata": {},
   "outputs": [],
   "source": [
    "ligset = np.array([ligconcs for i in range(5)])"
   ]
  },
  {
   "cell_type": "code",
   "execution_count": 410,
   "metadata": {},
   "outputs": [],
   "source": [
    "fixed_fits = [fit_wym(fixed_guesses[i],wymfunc_fix,ncb5[i],ligset,rtot,lsbnds_fix,loss='soft_l1') for i in range(250)]"
   ]
  },
  {
   "cell_type": "code",
   "execution_count": 411,
   "metadata": {},
   "outputs": [],
   "source": [
    "coop_fits = [fit_wym(parms[i],wymfunc,ncb5[i],ligset,rtot,lsbnds,loss='soft_l1') for i in range(250)]"
   ]
  },
  {
   "cell_type": "code",
   "execution_count": 412,
   "metadata": {},
   "outputs": [
    {
     "data": {
      "text/plain": [
       "16"
      ]
     },
     "execution_count": 412,
     "metadata": {},
     "output_type": "execute_result"
    }
   ],
   "source": [
    "np.sum(np.array([ftest(fixed_fits[i],coop_fits[i])[-1] for i in range(250)]) < 0.05)"
   ]
  },
  {
   "cell_type": "code",
   "execution_count": 413,
   "metadata": {},
   "outputs": [],
   "source": [
    "nonoise_fixed_fits = [fit_wym(fixed_guesses[i],wymfunc_fix,computed_bind[i],ligset,rtot,lsbnds_fix) for i in range(100)]"
   ]
  },
  {
   "cell_type": "code",
   "execution_count": 414,
   "metadata": {},
   "outputs": [
    {
     "data": {
      "text/plain": [
       "[<matplotlib.lines.Line2D at 0x1172ceef0>]"
      ]
     },
     "execution_count": 414,
     "metadata": {},
     "output_type": "execute_result"
    },
    {
     "data": {
      "image/png": "[encoded data removed]",
      "text/plain": [
       "<Figure size 432x288 with 1 Axes>"
      ]
     },
     "metadata": {},
     "output_type": "display_data"
    }
   ],
   "source": [
    "plt.semilogx(np.concatenate(ligset),fixed_fits[1].fun,'.')"
   ]
  },
  {
   "cell_type": "code",
   "execution_count": 415,
   "metadata": {},
   "outputs": [
    {
     "data": {
      "text/plain": [
       "[<matplotlib.lines.Line2D at 0x117749710>]"
      ]
     },
     "execution_count": 415,
     "metadata": {},
     "output_type": "execute_result"
    },
    {
     "data": {
      "image/png": "[encoded data removed]",
      "text/plain": [
       "<Figure size 432x288 with 1 Axes>"
      ]
     },
     "metadata": {},
     "output_type": "display_data"
    }
   ],
   "source": [
    "plt.semilogx(np.concatenate(ligset),coop_fits[1].fun,'.')"
   ]
  },
  {
   "cell_type": "code",
   "execution_count": 416,
   "metadata": {},
   "outputs": [
    {
     "data": {
      "text/plain": [
       "(array([  1,   9,  61,  82,  84,  88, 109, 117, 136, 165, 167, 205, 221,\n",
       "        233, 238, 245]),)"
      ]
     },
     "execution_count": 416,
     "metadata": {},
     "output_type": "execute_result"
    }
   ],
   "source": [
    "np.where(np.array([ftest(fixed_fits[i],coop_fits[i])[-1] for i in range(250)]) < 0.05)"
   ]
  },
  {
   "cell_type": "code",
   "execution_count": 421,
   "metadata": {},
   "outputs": [
    {
     "data": {
      "text/plain": [
       "array([ 0.47174956,  6.7874556 ,  0.079881  ])"
      ]
     },
     "execution_count": 421,
     "metadata": {},
     "output_type": "execute_result"
    }
   ],
   "source": [
    "fixed_fits[9].x"
   ]
  },
  {
   "cell_type": "code",
   "execution_count": 422,
   "metadata": {},
   "outputs": [
    {
     "data": {
      "text/plain": [
       "array([ 0.45134283,  7.94357484,  1.98589371,  0.05612849])"
      ]
     },
     "execution_count": 422,
     "metadata": {},
     "output_type": "execute_result"
    }
   ],
   "source": [
    "parms_nocoop[9]"
   ]
  },
  {
   "cell_type": "code",
   "execution_count": 423,
   "metadata": {},
   "outputs": [
    {
     "data": {
      "text/plain": [
       "array([  0.47429388,  10.93751302,   1.3598921 ,   0.05614899])"
      ]
     },
     "execution_count": 423,
     "metadata": {},
     "output_type": "execute_result"
    }
   ],
   "source": [
    "coop_fits[9].x"
   ]
  },
  {
   "cell_type": "code",
   "execution_count": null,
   "metadata": {},
   "outputs": [],
   "source": []
  }
 ],
 "metadata": {
  "kernelspec": {
   "display_name": "Python 3",
   "language": "python",
   "name": "python3"
  },
  "language_info": {
   "codemirror_mode": {
    "name": "ipython",
    "version": 3
   },
   "file_extension": ".py",
   "mimetype": "text/x-python",
   "name": "python",
   "nbconvert_exporter": "python",
   "pygments_lexer": "ipython3",
   "version": "3.6.5"
  }
 },
 "nbformat": 4,
 "nbformat_minor": 2
}
