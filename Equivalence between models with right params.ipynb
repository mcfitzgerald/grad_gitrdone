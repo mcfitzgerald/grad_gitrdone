{
 "cells": [
  {
   "cell_type": "code",
   "execution_count": 1,
   "metadata": {
    "collapsed": true
   },
   "outputs": [],
   "source": [
    "import numpy as np\n",
    "import scipy as sp\n",
    "from scipy import optimize\n",
    "from scipy import stats\n",
    "from scipy import signal\n",
    "import matplotlib.pyplot as plt\n",
    "%matplotlib inline"
   ]
  },
  {
   "cell_type": "code",
   "execution_count": 2,
   "metadata": {
    "collapsed": true
   },
   "outputs": [],
   "source": [
    "def dilser(low=0.001, limit=100., dilfactor=2.):\n",
    "    '''returns a numpy array dilution series from low to limit'''\n",
    "    #replace this with a generator/iterator someday\n",
    "    a = [low]\n",
    "    while a[-1] <= limit:\n",
    "        a.append(a[len(a)-1]*dilfactor)\n",
    "    return np.array(a)"
   ]
  },
  {
   "cell_type": "code",
   "execution_count": 3,
   "metadata": {
    "collapsed": true
   },
   "outputs": [],
   "source": [
    "def binterval(k):\n",
    "    '''takes apparent binding constent and builds lig series around it (2 log intervals on either end)'''\n",
    "    low = (1/k)/100\n",
    "    limit = (1/k)*100\n",
    "    return dilser(low=low,limit=limit)"
   ]
  },
  {
   "cell_type": "code",
   "execution_count": 4,
   "metadata": {
    "collapsed": true
   },
   "outputs": [],
   "source": [
    "def lognuniform(low=0, high=1, size=None, base=np.exp(1)):\n",
    "    return np.power(base, np.random.uniform(low, high, size))"
   ]
  },
  {
   "cell_type": "code",
   "execution_count": 5,
   "metadata": {
    "collapsed": true
   },
   "outputs": [],
   "source": [
    "def guessgen(length,lowmag=-3,himag=3,base=10):\n",
    "    return tuple(lognuniform(low=lowmag,high=himag,base=base) for i in range(length))"
   ]
  },
  {
   "cell_type": "code",
   "execution_count": 6,
   "metadata": {
    "collapsed": true
   },
   "outputs": [],
   "source": [
    "def colroots(data,ligs): \n",
    "    holder = []\n",
    "    for i in range(len(ligs)):\n",
    "        temp = data[:,i]\n",
    "        #rounded = np.around(temp,decimals=16)\n",
    "        roots,counts = np.unique(temp,return_counts=True)\n",
    "        posroots = roots[roots>0]\n",
    "        poscounts = counts[roots>0]\n",
    "        clctd = np.stack((posroots,poscounts),axis=1)\n",
    "        clctd = clctd[(-1*clctd[:,1]).argsort()]\n",
    "        holder.append(clctd[:3])\n",
    "    return holder"
   ]
  },
  {
   "cell_type": "code",
   "execution_count": 7,
   "metadata": {
    "collapsed": true
   },
   "outputs": [],
   "source": [
    "def k1solv(var,parm,rtot,ltot):\n",
    "    \n",
    "    k1 = parm\n",
    "    \n",
    "    (L,R,RL) = var\n",
    "    \n",
    "    eq1 = R + RL - rtot\n",
    "    eq2 = L + RL - ltot\n",
    "    eq3 = k1 * R * L - RL\n",
    "    \n",
    "    return np.array([eq1,eq2,eq3])"
   ]
  },
  {
   "cell_type": "code",
   "execution_count": 8,
   "metadata": {
    "collapsed": true
   },
   "outputs": [],
   "source": [
    "lig_concs = binterval(2)"
   ]
  },
  {
   "cell_type": "code",
   "execution_count": 9,
   "metadata": {
    "collapsed": true
   },
   "outputs": [],
   "source": [
    "guesses = [guessgen(3) for i in range(200)]"
   ]
  },
  {
   "cell_type": "code",
   "execution_count": 10,
   "metadata": {},
   "outputs": [
    {
     "name": "stdout",
     "output_type": "stream",
     "text": [
      "Wall time: 952 ms\n"
     ]
    }
   ],
   "source": [
    "%%time\n",
    "res = np.array([[sp.optimize.root(k1solv,i,args=(2.0,0.1,j),method='lm',options={'factor':0.1,'ftol':1e-14,'gtol':1e-14,'xtol':1e-14}).x for j in lig_concs] for i in guesses])"
   ]
  },
  {
   "cell_type": "code",
   "execution_count": 11,
   "metadata": {
    "collapsed": true
   },
   "outputs": [],
   "source": [
    "roots = [colroots(res[:,:,j],lig_concs) for j in range(3)]"
   ]
  },
  {
   "cell_type": "code",
   "execution_count": 12,
   "metadata": {
    "collapsed": true
   },
   "outputs": [],
   "source": [
    "L = np.array([roots[0][i][0][0] for i in range(15)])\n",
    "R = np.array([roots[1][i][0][0] for i in range(15)])\n",
    "RL = np.array([roots[2][i][0][0] for i in range(15)])"
   ]
  },
  {
   "cell_type": "code",
   "execution_count": 13,
   "metadata": {},
   "outputs": [
    {
     "data": {
      "text/plain": [
       "[<matplotlib.lines.Line2D at 0x1f1801477f0>]"
      ]
     },
     "execution_count": 13,
     "metadata": {},
     "output_type": "execute_result"
    },
    {
     "data": {
      "image/png": "[encoded data removed]",
      "text/plain": [
       "<matplotlib.figure.Figure at 0x1f180147d68>"
      ]
     },
     "metadata": {},
     "output_type": "display_data"
    }
   ],
   "source": [
    "plt.semilogx(L,RL,'.')\n",
    "plt.semilogx(lig_concs,RL,'.')"
   ]
  },
  {
   "cell_type": "code",
   "execution_count": 14,
   "metadata": {
    "collapsed": true
   },
   "outputs": [],
   "source": [
    "def k2solv(var,parm,rtot,ltot):\n",
    "    \n",
    "    k1 = parm[0]\n",
    "    k2 = parm[1]\n",
    "    \n",
    "    (L,R,RL,RLL) = var\n",
    "    \n",
    "    eq1 = (R + RL + RLL) - rtot\n",
    "    eq2 = (L + RL + 2*RLL) - ltot\n",
    "    eq3 = (k1*R*L) - RL\n",
    "    eq4 = (k2*k1*R*L*L) - RLL\n",
    "    \n",
    "    return np.array([eq1,eq2,eq3,eq4])"
   ]
  },
  {
   "cell_type": "code",
   "execution_count": 15,
   "metadata": {
    "collapsed": true
   },
   "outputs": [],
   "source": [
    "parmk2 = np.array([4.,1.])"
   ]
  },
  {
   "cell_type": "code",
   "execution_count": 16,
   "metadata": {
    "collapsed": true
   },
   "outputs": [],
   "source": [
    "k2guesses = [guessgen(4) for i in range(200)]\n",
    "resk2 = np.array([[optimize.root(k2solv,i,args=(parmk2,0.1,j),method='lm',options={'factor':0.1,'ftol':1e-14,'gtol':1e-14,'xtol':1e-14}).x for j in lig_concs] for i in k2guesses])"
   ]
  },
  {
   "cell_type": "code",
   "execution_count": 17,
   "metadata": {
    "collapsed": true
   },
   "outputs": [],
   "source": [
    "rootbag_k2 = [colroots(resk2[:,:,j],lig_concs) for j in range(4)]"
   ]
  },
  {
   "cell_type": "code",
   "execution_count": 18,
   "metadata": {
    "collapsed": true
   },
   "outputs": [],
   "source": [
    "dL = np.array([rootbag_k2[0][i][0][0] for i in range(15)])\n",
    "dR = np.array([rootbag_k2[1][i][0][0] for i in range(15)])\n",
    "dRL = np.array([rootbag_k2[2][i][0][0] for i in range(15)])\n",
    "dRLL = np.array([rootbag_k2[3][i][0][0] for i in range(15)])"
   ]
  },
  {
   "cell_type": "code",
   "execution_count": 19,
   "metadata": {},
   "outputs": [
    {
     "data": {
      "text/plain": [
       "[<matplotlib.lines.Line2D at 0x1f180a30a58>]"
      ]
     },
     "execution_count": 19,
     "metadata": {},
     "output_type": "execute_result"
    },
    {
     "data": {
      "image/png": "[encoded data removed]",
      "text/plain": [
       "<matplotlib.figure.Figure at 0x1f180a307f0>"
      ]
     },
     "metadata": {},
     "output_type": "display_data"
    }
   ],
   "source": [
    "plt.semilogx(dL,((dRL + 2*dRLL)/(dR + dRL + dRLL))/2,'x')\n",
    "plt.semilogx(L,RL/0.1,'.')"
   ]
  },
  {
   "cell_type": "code",
   "execution_count": 20,
   "metadata": {},
   "outputs": [
    {
     "data": {
      "text/plain": [
       "[<matplotlib.lines.Line2D at 0x1f1820542b0>]"
      ]
     },
     "execution_count": 20,
     "metadata": {},
     "output_type": "execute_result"
    },
    {
     "data": {
      "image/png": "[encoded data removed]",
      "text/plain": [
       "<matplotlib.figure.Figure at 0x1f181f7a5f8>"
      ]
     },
     "metadata": {},
     "output_type": "display_data"
    }
   ],
   "source": [
    "plt.plot((dRL + 2*dRLL),((dRL + 2*dRLL)/dL),'.')"
   ]
  },
  {
   "cell_type": "code",
   "execution_count": 21,
   "metadata": {
    "collapsed": true
   },
   "outputs": [],
   "source": [
    "def wymsol(var,parm,rtot,ltot):\n",
    "    \n",
    "    k11 = parm[0]\n",
    "    k21 = parm[1]\n",
    "    k22 = parm[2]\n",
    "    l20 = parm[3]\n",
    "    \n",
    "    (L, M, MM, ML, MML, MMLL) = var\n",
    "    \n",
    "    eq1 = (M + 2*MM + ML + 2*MML + 2*MMLL) - rtot\n",
    "    eq2 = (L + ML + MML + 2*MMLL) - ltot\n",
    "    eq3 = (l20 * M*M) - MM\n",
    "    eq4 = (k11 * L * M) - ML\n",
    "    eq5 = (l20 * k21 * M*M * L) - MML\n",
    "    eq6 = (k22 * L * MML) - MMLL\n",
    "    \n",
    "    return np.array([eq1,eq2,eq3,eq4,eq5,eq6])"
   ]
  },
  {
   "cell_type": "code",
   "execution_count": 22,
   "metadata": {
    "collapsed": true
   },
   "outputs": [],
   "source": [
    "rtotwym = np.array([1e-4,1e-3,1e-2,1e-1,1e0])\n",
    "parmwym = np.array([2.,4.,1.,500.])\n",
    "wymguesses = [guessgen(6) for i in range(100)]"
   ]
  },
  {
   "cell_type": "code",
   "execution_count": 23,
   "metadata": {},
   "outputs": [
    {
     "name": "stdout",
     "output_type": "stream",
     "text": [
      "Wall time: 18.5 s\n"
     ]
    }
   ],
   "source": [
    "%%time\n",
    "wymar = np.array([[[optimize.root(wymsol,i,args=(parmwym,q,j),method='lm',options={'factor':0.1,'ftol':1e-16,'gtol':1e-16,'xtol':1e-16}).x for j in lig_concs] for i in wymguesses] for q in rtotwym])"
   ]
  },
  {
   "cell_type": "code",
   "execution_count": 24,
   "metadata": {},
   "outputs": [
    {
     "data": {
      "text/plain": [
       "(5, 100, 15, 6)"
      ]
     },
     "execution_count": 24,
     "metadata": {},
     "output_type": "execute_result"
    }
   ],
   "source": [
    "wymar.shape"
   ]
  },
  {
   "cell_type": "code",
   "execution_count": 25,
   "metadata": {
    "collapsed": true
   },
   "outputs": [],
   "source": [
    "#original \n",
    "rootbag_wym = [[colroots(wymar[k,:,:,j],lig_concs) for j in range(6)] for  k in range(5)]"
   ]
  },
  {
   "cell_type": "code",
   "execution_count": 27,
   "metadata": {
    "collapsed": true
   },
   "outputs": [],
   "source": [
    "allroots = np.array([[np.array([rootbag_wym[q][j][i][0][0] for i in range(15)]) for j in range(6)] for q in range(5)])"
   ]
  },
  {
   "cell_type": "code",
   "execution_count": 28,
   "metadata": {},
   "outputs": [
    {
     "data": {
      "image/png": "[encoded data removed]",
      "text/plain": [
       "<matplotlib.figure.Figure at 0x1f18093ef28>"
      ]
     },
     "metadata": {},
     "output_type": "display_data"
    }
   ],
   "source": [
    "for i in range(5):\n",
    "    plt.semilogy(allroots[i][0],'.')"
   ]
  },
  {
   "cell_type": "code",
   "execution_count": 29,
   "metadata": {},
   "outputs": [
    {
     "data": {
      "image/png": "[encoded data removed]",
      "text/plain": [
       "<matplotlib.figure.Figure at 0x1f1825587b8>"
      ]
     },
     "metadata": {},
     "output_type": "display_data"
    }
   ],
   "source": [
    "for i in range(2,3):\n",
    "    bnd = allroots[i][3] + allroots[i][4] + 2*allroots[i][5]\n",
    "    fre = allroots[i][0]\n",
    "    plt.plot(bnd,(bnd/fre),'.')"
   ]
  },
  {
   "cell_type": "code",
   "execution_count": 30,
   "metadata": {},
   "outputs": [
    {
     "data": {
      "text/plain": [
       "<matplotlib.lines.Line2D at 0x1f1826b4748>"
      ]
     },
     "execution_count": 30,
     "metadata": {},
     "output_type": "execute_result"
    },
    {
     "data": {
      "image/png": "[encoded data removed]",
      "text/plain": [
       "<matplotlib.figure.Figure at 0x1f1801110f0>"
      ]
     },
     "metadata": {},
     "output_type": "display_data"
    }
   ],
   "source": [
    "for i in range(5):\n",
    "    bnd = allroots[i][3] + allroots[i][4] + 2*allroots[i][5]\n",
    "    fre = allroots[i][0]\n",
    "    rtot = rtotwym[i]\n",
    "    plt.semilogx(fre,(bnd/rtot),'.')\n",
    "plt.semilogx(dL,((dRL + 2*dRLL)/(dR + dRL + dRLL))/2,'x')\n",
    "plt.semilogx(L,RL/0.1,'*')\n",
    "plt.axhline(y=0.5, color='r', linestyle='-')"
   ]
  },
  {
   "cell_type": "code",
   "execution_count": null,
   "metadata": {
    "collapsed": true
   },
   "outputs": [],
   "source": []
  },
  {
   "cell_type": "code",
   "execution_count": null,
   "metadata": {
    "collapsed": true
   },
   "outputs": [],
   "source": []
  }
 ],
 "metadata": {
  "kernelspec": {
   "display_name": "Python 3",
   "language": "python",
   "name": "python3"
  },
  "language_info": {
   "codemirror_mode": {
    "name": "ipython",
    "version": 3
   },
   "file_extension": ".py",
   "mimetype": "text/x-python",
   "name": "python",
   "nbconvert_exporter": "python",
   "pygments_lexer": "ipython3",
   "version": "3.6.5"
  }
 },
 "nbformat": 4,
 "nbformat_minor": 2
}
