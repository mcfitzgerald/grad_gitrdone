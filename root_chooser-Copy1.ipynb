{
 "cells": [
  {
   "cell_type": "code",
   "execution_count": 1,
   "metadata": {},
   "outputs": [],
   "source": [
    "import numpy as np\n",
    "import scipy as sp\n",
    "from scipy import optimize\n",
    "from scipy import stats\n",
    "from scipy import signal\n",
    "import matplotlib.pyplot as plt\n",
    "%matplotlib inline"
   ]
  },
  {
   "cell_type": "code",
   "execution_count": 2,
   "metadata": {},
   "outputs": [],
   "source": [
    "def dilser(low=0.001, limit=100., dilfactor=2.):\n",
    "    '''returns a numpy array dilution series from low to limit'''\n",
    "    #replace this with a generator/iterator someday\n",
    "    a = [low]\n",
    "    while a[-1] <= limit:\n",
    "        a.append(a[len(a)-1]*dilfactor)\n",
    "    return np.array(a)"
   ]
  },
  {
   "cell_type": "code",
   "execution_count": 3,
   "metadata": {},
   "outputs": [],
   "source": [
    "def lognuniform(low=0, high=1, size=None, base=np.exp(1)):\n",
    "    return np.power(base, np.random.uniform(low, high, size))"
   ]
  },
  {
   "cell_type": "code",
   "execution_count": 4,
   "metadata": {},
   "outputs": [],
   "source": [
    "def guessgen(length,lowmag=-3,himag=3,base=10):\n",
    "    return tuple(lognuniform(low=lowmag,high=himag,base=base) for i in range(length))"
   ]
  },
  {
   "cell_type": "code",
   "execution_count": 5,
   "metadata": {},
   "outputs": [],
   "source": [
    "def smdev(ys,win=3,poly=2):\n",
    "    smoothed = signal.savgol_filter(ys,window_length=win,polyorder=poly)\n",
    "    reldif = ((ys-smoothed)/ys)\n",
    "    rmse = np.sqrt(np.mean(reldif**2))\n",
    "    return rmse, reldif\n",
    "\n",
    "\n",
    "\n",
    "def find_best_root(data,max_lig_index,target_index):\n",
    "    \"\"\"Returns \"most reasonable\" root solution from array of solutions\n",
    "    based on known variables\n",
    "    \n",
    "    data -- the array of root solutions for a given binding equation\n",
    "    max_lig_index -- length of starting ligand concentrations array\n",
    "    target_index -- index of target solution in root solution tuple\n",
    "    \"\"\"\n",
    "    holder = []\n",
    "    for i in range(max_lig_index):\n",
    "        temp = data[:,i,target_index]\n",
    "        try:\n",
    "            sp.stats.mode(temp)[0][0] > 0\n",
    "            holder.append(sp.stats.mode(temp)[0][0])\n",
    "        except: print('negative root encountered')\n",
    "            \n",
    "    result = np.array(holder)\n",
    "    \n",
    "    if smdev(result)[0] > 1. :\n",
    "        print('Large Deviation')\n",
    "        return result ,smdev(np.array(holder))[1]\n",
    "        \n",
    "    else:\n",
    "        return result"
   ]
  },
  {
   "cell_type": "code",
   "execution_count": 6,
   "metadata": {},
   "outputs": [],
   "source": [
    "def k1solv(var,parm,rtot,ltot):\n",
    "    \n",
    "    k1 = parm\n",
    "    \n",
    "    (L,R,RL) = var\n",
    "    \n",
    "    eq1 = R + RL - rtot\n",
    "    eq2 = L + RL - ltot\n",
    "    eq3 = k1 * R * L - RL\n",
    "    \n",
    "    return np.array([eq1,eq2,eq3])"
   ]
  },
  {
   "cell_type": "code",
   "execution_count": 7,
   "metadata": {},
   "outputs": [],
   "source": [
    "lig_concs = dilser()"
   ]
  },
  {
   "cell_type": "code",
   "execution_count": 8,
   "metadata": {},
   "outputs": [],
   "source": [
    "guesses = [guessgen(3) for i in range(100)]"
   ]
  },
  {
   "cell_type": "code",
   "execution_count": 9,
   "metadata": {},
   "outputs": [],
   "source": [
    "res = np.array([[sp.optimize.root(k1solv,i,args=(2.0,0.1,j),method='lm',options={'factor':0.1,'ftol':1e-14,'gtol':1e-14,'xtol':1e-14}).x for j in lig_concs] for i in guesses])"
   ]
  },
  {
   "cell_type": "code",
   "execution_count": 10,
   "metadata": {},
   "outputs": [],
   "source": [
    "L = find_best_root(res,18,0)\n",
    "R = find_best_root(res,18,1)\n",
    "RL = find_best_root(res,18,2)"
   ]
  },
  {
   "cell_type": "code",
   "execution_count": 11,
   "metadata": {},
   "outputs": [
    {
     "data": {
      "text/plain": [
       "[<matplotlib.lines.Line2D at 0x113e8c588>]"
      ]
     },
     "execution_count": 11,
     "metadata": {},
     "output_type": "execute_result"
    },
    {
     "data": {
      "image/png": "[encoded data removed]",
      "text/plain": [
       "<Figure size 432x288 with 1 Axes>"
      ]
     },
     "metadata": {},
     "output_type": "display_data"
    }
   ],
   "source": [
    "plt.semilogx(L,RL,'.')\n",
    "plt.semilogx(lig_concs,RL,'.')"
   ]
  },
  {
   "cell_type": "code",
   "execution_count": 12,
   "metadata": {},
   "outputs": [],
   "source": [
    "def k2solv(var,parm,rtot,ltot):\n",
    "    \n",
    "    k1 = parm[0]\n",
    "    k2 = parm[1]\n",
    "    \n",
    "    (L,R,RL,RLL) = var\n",
    "    \n",
    "    eq1 = (R + RL + RLL) - rtot\n",
    "    eq2 = (L + RL + 2*RLL) - ltot\n",
    "    eq3 = (k1*R*L) - RL\n",
    "    eq4 = (k2*k1*R*L*L) - RLL\n",
    "    \n",
    "    return np.array([eq1,eq2,eq3,eq4])"
   ]
  },
  {
   "cell_type": "code",
   "execution_count": 13,
   "metadata": {},
   "outputs": [],
   "source": [
    "parmk2 = np.array([4.,1.])"
   ]
  },
  {
   "cell_type": "code",
   "execution_count": 14,
   "metadata": {},
   "outputs": [],
   "source": [
    "k2guesses = [guessgen(4) for i in range(100)]\n",
    "resk2 = np.array([[optimize.root(k2solv,i,args=(parmk2,0.1,j),method='lm',options={'factor':0.1,'ftol':1e-14,'gtol':1e-14,'xtol':1e-14}).x for j in lig_concs] for i in k2guesses])"
   ]
  },
  {
   "cell_type": "code",
   "execution_count": 15,
   "metadata": {},
   "outputs": [],
   "source": [
    "dL = find_best_root(resk2,18,0)\n",
    "dR = find_best_root(resk2,18,1)\n",
    "dRL = find_best_root(resk2,18,2)\n",
    "dRLL = find_best_root(resk2,18,3)"
   ]
  },
  {
   "cell_type": "code",
   "execution_count": 16,
   "metadata": {},
   "outputs": [
    {
     "data": {
      "text/plain": [
       "[<matplotlib.lines.Line2D at 0x1140db7f0>]"
      ]
     },
     "execution_count": 16,
     "metadata": {},
     "output_type": "execute_result"
    },
    {
     "data": {
      "image/png": "[encoded data removed]",
      "text/plain": [
       "<Figure size 432x288 with 1 Axes>"
      ]
     },
     "metadata": {},
     "output_type": "display_data"
    }
   ],
   "source": [
    "plt.semilogx(dL,((dRL + 2*dRLL)/(dR + dRL + dRLL))/2,'x')\n",
    "plt.semilogx(L,RL/0.1,'.')"
   ]
  },
  {
   "cell_type": "code",
   "execution_count": 17,
   "metadata": {},
   "outputs": [
    {
     "data": {
      "text/plain": [
       "[<matplotlib.lines.Line2D at 0x1142ff7b8>]"
      ]
     },
     "execution_count": 17,
     "metadata": {},
     "output_type": "execute_result"
    },
    {
     "data": {
      "image/png": "[encoded data removed]",
      "text/plain": [
       "<Figure size 432x288 with 1 Axes>"
      ]
     },
     "metadata": {},
     "output_type": "display_data"
    }
   ],
   "source": [
    "plt.plot((dRL + 2*dRLL),((dRL + 2*dRLL)/dL),'.')"
   ]
  },
  {
   "cell_type": "code",
   "execution_count": 18,
   "metadata": {},
   "outputs": [],
   "source": [
    "def wymsol(var,parm,rtot,ltot):\n",
    "    \n",
    "    k11 = parm[0]\n",
    "    k21 = parm[1]\n",
    "    k22 = parm[2]\n",
    "    l20 = parm[3]\n",
    "    \n",
    "    (L, M, MM, ML, MML, MMLL) = var\n",
    "    \n",
    "    eq1 = (M + 2*MM + ML + 2*MML + 2*MMLL) - rtot\n",
    "    eq2 = (L + ML + MML + 2*MMLL) - ltot\n",
    "    eq3 = (l20 * M*M) - MM\n",
    "    eq4 = (k11 * L * M) - ML\n",
    "    eq5 = (l20 * k21 * M*M * L) - MML\n",
    "    eq6 = (k22 * L * MML) - MMLL\n",
    "    \n",
    "    return np.array([eq1,eq2,eq3,eq4,eq5,eq6])"
   ]
  },
  {
   "cell_type": "code",
   "execution_count": 19,
   "metadata": {},
   "outputs": [],
   "source": [
    "rtotwym = np.array([1e-4,1e-3,1e-2,1e-1,1e0])\n",
    "parmwym = np.array([2.,4.,1.,500.])\n",
    "wymguesses = [guessgen(6) for i in range(100)]"
   ]
  },
  {
   "cell_type": "code",
   "execution_count": 59,
   "metadata": {},
   "outputs": [],
   "source": [
    "wymar = np.array([[[optimize.root(wymsol,i,args=(parmwym,q,j),method='lm',options={'factor':0.1,'ftol':1e-14,'gtol':1e-14,'xtol':1e-14}).x for j in lig_concs] for i in wymguesses] for q in rtotwym])"
   ]
  },
  {
   "cell_type": "code",
   "execution_count": 60,
   "metadata": {},
   "outputs": [],
   "source": [
    "wymL_0 = find_best_root(wymar[0],18,0)\n",
    "wymM_0 = find_best_root(wymar[0],18,1)\n",
    "wymMM_0 = find_best_root(wymar[0],18,2)\n",
    "wymML_0 = find_best_root(wymar[0],18,3)\n",
    "wymMML_0 = find_best_root(wymar[0],18,4)\n",
    "wymMMLL_0 = find_best_root(wymar[0],18,5)"
   ]
  },
  {
   "cell_type": "code",
   "execution_count": 61,
   "metadata": {},
   "outputs": [
    {
     "data": {
      "text/plain": [
       "[<matplotlib.lines.Line2D at 0x114c85f98>]"
      ]
     },
     "execution_count": 61,
     "metadata": {},
     "output_type": "execute_result"
    },
    {
     "data": {
      "image/png": "[encoded data removed]",
      "text/plain": [
       "<Figure size 432x288 with 1 Axes>"
      ]
     },
     "metadata": {},
     "output_type": "display_data"
    }
   ],
   "source": [
    "plt.semilogy(wymL_0,'.')\n",
    "plt.semilogy(wymM_0,'.')\n",
    "plt.semilogy(wymMM_0,'.') #this one\n",
    "plt.semilogy(wymML_0,'.')\n",
    "#plt.semilogy(wymMML_0,'.')\n",
    "#plt.semilogy(wymMMLL_0,'.') #this one"
   ]
  },
  {
   "cell_type": "code",
   "execution_count": 62,
   "metadata": {},
   "outputs": [
    {
     "data": {
      "text/plain": [
       "[<matplotlib.lines.Line2D at 0x114c50198>]"
      ]
     },
     "execution_count": 62,
     "metadata": {},
     "output_type": "execute_result"
    },
    {
     "data": {
      "image/png": "[encoded data removed]",
      "text/plain": [
       "<Figure size 432x288 with 1 Axes>"
      ]
     },
     "metadata": {},
     "output_type": "display_data"
    }
   ],
   "source": [
    "bound = wymML_0 + wymMML_0 + 2*wymMMLL_0\n",
    "\n",
    "plt.semilogx(bound,(bound/wymML_0),'.')"
   ]
  },
  {
   "cell_type": "code",
   "execution_count": 63,
   "metadata": {},
   "outputs": [
    {
     "data": {
      "text/plain": [
       "True"
      ]
     },
     "execution_count": 63,
     "metadata": {},
     "output_type": "execute_result"
    }
   ],
   "source": [
    "smdev(wymMMLL_0)[0] < 1."
   ]
  },
  {
   "cell_type": "code",
   "execution_count": 64,
   "metadata": {},
   "outputs": [
    {
     "data": {
      "text/plain": [
       "array([  9.99800439e-04,   1.99960167e-03,   3.99920651e-03,\n",
       "         7.99842550e-03,   1.59968998e-02,   3.19939860e-02,\n",
       "         6.39886543e-02,   1.27979620e-01,   2.55966141e-01,\n",
       "         5.11949410e-01,   1.02393281e+00,   2.04791962e+00,\n",
       "         4.09591088e+00,   8.19190575e+00,   1.63839030e+01,\n",
       "         3.27679015e+01,   6.55359008e+01,   1.31071900e+02])"
      ]
     },
     "execution_count": 64,
     "metadata": {},
     "output_type": "execute_result"
    }
   ],
   "source": [
    "np.abs(find_best_root(wymar[0],18,0))"
   ]
  },
  {
   "cell_type": "code",
   "execution_count": 65,
   "metadata": {},
   "outputs": [],
   "source": [
    "def test_rootfinder(data,max_lig_index,target_index):\n",
    "    \"\"\"Returns \"most reasonable\" root solution from array of solutions\n",
    "    based on known variables\n",
    "    \n",
    "    data -- the array of root solutions for a given binding equation\n",
    "    max_lig_index -- length of starting ligand concentrations array\n",
    "    target_index -- index of target solution in root solution tuple\n",
    "    \"\"\"\n",
    "    holder = []\n",
    "    for i in range(max_lig_index):\n",
    "        temp = data[:,i,target_index]\n",
    "        roots,indices,counts = np.unique(temp,return_counts=True,return_index=True)\n",
    "        posroots = roots[roots>0]\n",
    "        posinds = indices[roots>0]\n",
    "        poscounts = counts[roots>0]\n",
    "        try:\n",
    "            sp.stats.mode(temp)[0][0] > 0\n",
    "            holder.append(sp.stats.mode(temp)[0][0])\n",
    "        except: print('negative root encountered')\n",
    "            \n",
    "    result = np.array(holder)\n",
    "            \n",
    "    return result"
   ]
  },
  {
   "cell_type": "code",
   "execution_count": 66,
   "metadata": {},
   "outputs": [
    {
     "data": {
      "text/plain": [
       "array([  1.67104499e-11,   6.65758683e-11,   2.64194977e-10,\n",
       "         1.04020965e-09,   4.03286855e-09,   1.51760888e-08,\n",
       "         5.40134379e-08,   1.74271808e-07,   4.81057460e-07,\n",
       "         1.07392287e-06,   1.89429617e-06,   2.71075938e-06,\n",
       "         3.33268604e-06,   3.72714663e-06,   3.95116932e-06,\n",
       "         4.07083076e-06,   4.13271004e-06,   5.91284241e-04])"
      ]
     },
     "execution_count": 66,
     "metadata": {},
     "output_type": "execute_result"
    }
   ],
   "source": [
    "test_rootfinder(wymar[0],18,5)"
   ]
  },
  {
   "cell_type": "code",
   "execution_count": 67,
   "metadata": {},
   "outputs": [],
   "source": [
    "def colroots(data,max_lig_index,target_index): \n",
    "    holder = []\n",
    "    for i in range(max_lig_index):\n",
    "        temp = data[:,i,target_index]\n",
    "        roots,counts = np.unique(temp,return_counts=True)\n",
    "        posroots = roots[roots>0]\n",
    "        poscounts = counts[roots>0]\n",
    "        clctd = np.stack((posroots,poscounts),axis=1)\n",
    "        clctd = clctd[(-1*clctd[:,1]).argsort()]\n",
    "        holder.append(clctd[:,0])\n",
    "    \n",
    "    #firstguess = [i[1] for i in holder]\n",
    "    \n",
    "    return holder"
   ]
  },
  {
   "cell_type": "code",
   "execution_count": 68,
   "metadata": {},
   "outputs": [
    {
     "data": {
      "text/plain": [
       "(5, 100, 18, 6)"
      ]
     },
     "execution_count": 68,
     "metadata": {},
     "output_type": "execute_result"
    }
   ],
   "source": [
    "wymar.shape"
   ]
  },
  {
   "cell_type": "code",
   "execution_count": 69,
   "metadata": {},
   "outputs": [
    {
     "data": {
      "text/plain": [
       "array([ 0.0009998 ,  0.0009998 ,  0.0009998 ,  0.0009998 , -0.50756153,\n",
       "        0.0009998 ,  0.0009998 ,  0.0009998 ,  0.0009998 ,  0.0009998 ,\n",
       "        0.0009998 , -0.50452761,  0.0009998 ,  0.0009998 ,  0.0009998 ,\n",
       "        0.0009998 ,  0.0009998 ,  0.0009998 ,  0.0009998 ,  0.0009998 ,\n",
       "        0.0009998 ,  0.0009998 ,  0.0009998 ,  0.0009998 ,  0.0009998 ,\n",
       "       -0.50426308,  0.0009998 ,  0.0009998 ,  0.0009998 ,  0.0009998 ,\n",
       "        0.0009998 ,  0.0009998 ,  0.0009998 ,  0.0009998 ,  0.0009998 ,\n",
       "        0.0009998 ,  0.0009998 ,  0.0009998 ,  0.0009998 , -0.5044493 ,\n",
       "        0.0009998 ,  0.0009998 ,  0.0009998 ,  0.0009998 ,  0.0009998 ,\n",
       "        0.0009998 ,  0.0009998 ,  0.0009998 , -0.50445661,  0.0009998 ,\n",
       "        0.0009998 ,  0.0009998 ,  0.0009998 ,  0.0009998 ,  0.0009998 ,\n",
       "        0.0009998 ,  0.0009998 ,  0.0009998 ,  0.0009998 ,  0.0009998 ,\n",
       "        0.0009998 ,  0.0009998 ,  0.0009998 ,  0.0009998 ,  0.0009998 ,\n",
       "        0.0009998 ,  0.0009998 ,  0.0009998 , -0.50431649,  0.0009998 ,\n",
       "        0.0009998 ,  0.0009998 ,  0.0009998 ,  0.0009998 ,  0.0009998 ,\n",
       "        0.0009998 ,  0.0009998 ,  0.0009998 ,  0.0009998 ,  0.0009998 ,\n",
       "        0.0009998 ,  0.0009998 ,  0.0009998 , -0.50775108,  0.0009998 ,\n",
       "        0.0009998 ,  0.0009998 ,  0.0009998 ,  0.0009998 ,  0.0009998 ,\n",
       "        0.0009998 ,  0.0009998 ,  0.0009998 ,  0.0009998 ,  0.0009998 ,\n",
       "        0.0009998 ,  0.0009998 ,  0.0009998 ,  0.0009998 ,  0.0009998 ])"
      ]
     },
     "execution_count": 69,
     "metadata": {},
     "output_type": "execute_result"
    }
   ],
   "source": [
    "wymar[0,:,0,0]"
   ]
  },
  {
   "cell_type": "code",
   "execution_count": 70,
   "metadata": {},
   "outputs": [],
   "source": [
    "def bag(data,rlevel,var):\n",
    "    holder = []\n",
    "    for i in range(18):\n",
    "        temp = data[rlevel,:,i,var]\n",
    "        roots,counts = np.unique(temp,return_counts=True)\n",
    "        posroots = roots[roots>0]\n",
    "        poscounts = counts[roots>0]\n",
    "        clctd = np.stack((posroots,poscounts),axis=1)\n",
    "        clctd = clctd[(-1*clctd[:,1]).argsort()]\n",
    "        holder.append(clctd)\n",
    "        \n",
    "    return holder"
   ]
  },
  {
   "cell_type": "code",
   "execution_count": 71,
   "metadata": {},
   "outputs": [
    {
     "data": {
      "text/plain": [
       "[<matplotlib.lines.Line2D at 0x114004c18>]"
      ]
     },
     "execution_count": 71,
     "metadata": {},
     "output_type": "execute_result"
    },
    {
     "data": {
      "image/png": "[encoded data removed]",
      "text/plain": [
       "<Figure size 432x288 with 1 Axes>"
      ]
     },
     "metadata": {},
     "output_type": "display_data"
    }
   ],
   "source": [
    "plt.semilogy([i[0][0] for i in bag(wymar,0,5)],'.')\n",
    "plt.semilogy([i[1][0] for i in bag(wymar,0,5)],'.')"
   ]
  },
  {
   "cell_type": "code",
   "execution_count": 78,
   "metadata": {},
   "outputs": [],
   "source": [
    "def smooth(x,window_len=11,window='hanning'):\n",
    "    \"\"\"smooth the data using a window with requested size.\n",
    "    \n",
    "    This method is based on the convolution of a scaled window with the signal.\n",
    "    The signal is prepared by introducing reflected copies of the signal \n",
    "    (with the window size) in both ends so that transient parts are minimized\n",
    "    in the begining and end part of the output signal.\n",
    "    \n",
    "    input:\n",
    "        x: the input signal \n",
    "        window_len: the dimension of the smoothing window; should be an odd integer\n",
    "        window: the type of window from 'flat', 'hanning', 'hamming', 'bartlett', 'blackman'\n",
    "            flat window will produce a moving average smoothing.\n",
    "\n",
    "    output:\n",
    "        the smoothed signal\n",
    "        \n",
    "    example:\n",
    "\n",
    "    t=linspace(-2,2,0.1)\n",
    "    x=sin(t)+randn(len(t))*0.1\n",
    "    y=smooth(x)\n",
    "    \n",
    "    see also: \n",
    "    \n",
    "    numpy.hanning, numpy.hamming, numpy.bartlett, numpy.blackman, numpy.convolve\n",
    "    scipy.signal.lfilter\n",
    " \n",
    "    TODO: the window parameter could be the window itself if an array instead of a string\n",
    "    NOTE: length(output) != length(input), to correct this: return y[(window_len/2-1):-(window_len/2)] instead of just y.\n",
    "    \"\"\"\n",
    "\n",
    "    if x.ndim != 1:\n",
    "        raise (ValueError, \"smooth only accepts 1 dimension arrays.\")\n",
    "\n",
    "    if x.size < window_len:\n",
    "        raise (ValueError, \"Input vector needs to be bigger than window size.\")\n",
    "\n",
    "\n",
    "    if window_len<3:\n",
    "        return x\n",
    "\n",
    "\n",
    "    if not window in ['flat', 'hanning', 'hamming', 'bartlett', 'blackman']:\n",
    "        raise (ValueError, \"Window is on of 'flat', 'hanning', 'hamming', 'bartlett', 'blackman'\")\n",
    "\n",
    "\n",
    "    s=np.r_[x[window_len-1:0:-1],x,x[-2:-window_len-1:-1]]\n",
    "    #print(len(s))\n",
    "    if window == 'flat': #moving average\n",
    "        w=np.ones(window_len,'d')\n",
    "    else:\n",
    "        w=eval('np.'+window+'(window_len)')\n",
    "\n",
    "    y=np.convolve(w/w.sum(),s,mode='valid')\n",
    "    return y"
   ]
  },
  {
   "cell_type": "code",
   "execution_count": 102,
   "metadata": {},
   "outputs": [
    {
     "data": {
      "text/plain": [
       "[<matplotlib.lines.Line2D at 0x115db3fd0>]"
      ]
     },
     "execution_count": 102,
     "metadata": {},
     "output_type": "execute_result"
    },
    {
     "data": {
      "image/png": "[encoded data removed]",
      "text/plain": [
       "<Figure size 432x288 with 1 Axes>"
      ]
     },
     "metadata": {},
     "output_type": "display_data"
    }
   ],
   "source": [
    "plt.plot(np.array([i[0][0] for i in bag(wymar,0,5)]),'o')\n",
    "plt.plot(smooth(np.array([i[0][0] for i in bag(wymar,0,5)]),window_len=3),'-')"
   ]
  },
  {
   "cell_type": "code",
   "execution_count": null,
   "metadata": {},
   "outputs": [],
   "source": []
  },
  {
   "cell_type": "code",
   "execution_count": null,
   "metadata": {},
   "outputs": [],
   "source": []
  },
  {
   "cell_type": "code",
   "execution_count": null,
   "metadata": {},
   "outputs": [],
   "source": []
  },
  {
   "cell_type": "code",
   "execution_count": null,
   "metadata": {},
   "outputs": [],
   "source": []
  },
  {
   "cell_type": "code",
   "execution_count": 72,
   "metadata": {},
   "outputs": [
    {
     "data": {
      "text/plain": [
       "[array([[  1.67104499e-11,   5.30000000e+01],\n",
       "        [  1.67104499e-11,   2.40000000e+01],\n",
       "        [  1.67104499e-11,   9.00000000e+00],\n",
       "        [  2.37276620e-09,   3.00000000e+00],\n",
       "        [  1.67104499e-11,   1.00000000e+00],\n",
       "        [  1.67104499e-11,   1.00000000e+00],\n",
       "        [  2.37276620e-09,   1.00000000e+00],\n",
       "        [  2.37276620e-09,   1.00000000e+00],\n",
       "        [  1.77717871e+01,   1.00000000e+00],\n",
       "        [  1.79833403e+01,   1.00000000e+00],\n",
       "        [  1.80054057e+01,   1.00000000e+00],\n",
       "        [  1.84171679e+01,   1.00000000e+00],\n",
       "        [  1.85887304e+01,   1.00000000e+00],\n",
       "        [  2.39421504e+01,   1.00000000e+00],\n",
       "        [  2.46285153e+01,   1.00000000e+00]]),\n",
       " array([[  6.65758683e-11,   4.60000000e+01],\n",
       "        [  6.65758683e-11,   2.40000000e+01],\n",
       "        [  6.65758683e-11,   1.80000000e+01],\n",
       "        [  9.45330444e-09,   2.00000000e+00],\n",
       "        [  9.45330444e-09,   2.00000000e+00],\n",
       "        [  9.45330444e-09,   1.00000000e+00],\n",
       "        [  1.76577096e+01,   1.00000000e+00],\n",
       "        [  1.80698458e+01,   1.00000000e+00],\n",
       "        [  1.80844999e+01,   1.00000000e+00],\n",
       "        [  1.82771604e+01,   1.00000000e+00],\n",
       "        [  1.83710666e+01,   1.00000000e+00],\n",
       "        [  2.40230789e+01,   1.00000000e+00],\n",
       "        [  2.46550710e+01,   1.00000000e+00]]),\n",
       " array([[  2.64194977e-10,   5.20000000e+01],\n",
       "        [  2.64194977e-10,   2.40000000e+01],\n",
       "        [  2.64194977e-10,   1.00000000e+01],\n",
       "        [  3.75138262e-08,   5.00000000e+00],\n",
       "        [  2.64194977e-10,   2.00000000e+00],\n",
       "        [  1.79174793e+01,   1.00000000e+00],\n",
       "        [  1.80745603e+01,   1.00000000e+00],\n",
       "        [  1.81361134e+01,   1.00000000e+00],\n",
       "        [  1.85029204e+01,   1.00000000e+00],\n",
       "        [  1.85652304e+01,   1.00000000e+00],\n",
       "        [  2.44389905e+01,   1.00000000e+00],\n",
       "        [  2.45557930e+01,   1.00000000e+00]]),\n",
       " array([[  1.04020965e-09,   4.30000000e+01],\n",
       "        [  1.04020965e-09,   3.70000000e+01],\n",
       "        [  1.04020965e-09,   7.00000000e+00],\n",
       "        [  1.47702444e-07,   4.00000000e+00],\n",
       "        [  1.04020965e-09,   1.00000000e+00],\n",
       "        [  1.47702444e-07,   1.00000000e+00],\n",
       "        [  1.77086373e+01,   1.00000000e+00],\n",
       "        [  1.79816266e+01,   1.00000000e+00],\n",
       "        [  1.83214895e+01,   1.00000000e+00],\n",
       "        [  1.86349615e+01,   1.00000000e+00],\n",
       "        [  1.88980632e+01,   1.00000000e+00],\n",
       "        [  2.45697706e+01,   1.00000000e+00],\n",
       "        [  2.47973603e+01,   1.00000000e+00]]),\n",
       " array([[  4.03286855e-09,   3.80000000e+01],\n",
       "        [  4.03286855e-09,   3.70000000e+01],\n",
       "        [  4.03286855e-09,   7.00000000e+00],\n",
       "        [  4.03286855e-09,   6.00000000e+00],\n",
       "        [  5.72638932e-07,   3.00000000e+00],\n",
       "        [  5.72638932e-07,   2.00000000e+00],\n",
       "        [  1.81054179e+01,   1.00000000e+00],\n",
       "        [  1.84922695e+01,   1.00000000e+00],\n",
       "        [  1.86369016e+01,   1.00000000e+00],\n",
       "        [  1.86945978e+01,   1.00000000e+00],\n",
       "        [  1.92933952e+01,   1.00000000e+00],\n",
       "        [  2.34546522e+01,   1.00000000e+00],\n",
       "        [  2.48477519e+01,   1.00000000e+00]]),\n",
       " array([[  1.51760888e-08,   5.70000000e+01],\n",
       "        [  1.51760888e-08,   2.40000000e+01],\n",
       "        [  1.51760888e-08,   5.00000000e+00],\n",
       "        [  2.15489772e-06,   2.00000000e+00],\n",
       "        [  1.51760888e-08,   1.00000000e+00],\n",
       "        [  2.15489772e-06,   1.00000000e+00],\n",
       "        [  2.15489772e-06,   1.00000000e+00],\n",
       "        [  2.15489772e-06,   1.00000000e+00],\n",
       "        [  1.82603322e+01,   1.00000000e+00],\n",
       "        [  1.82676618e+01,   1.00000000e+00],\n",
       "        [  1.91227581e+01,   1.00000000e+00],\n",
       "        [  1.92310209e+01,   1.00000000e+00],\n",
       "        [  1.96505722e+01,   1.00000000e+00],\n",
       "        [  1.97327585e+01,   1.00000000e+00],\n",
       "        [  2.41400984e+01,   1.00000000e+00],\n",
       "        [  2.43041139e+01,   1.00000000e+00]]),\n",
       " array([[  5.40134379e-08,   6.40000000e+01],\n",
       "        [  5.40134379e-08,   1.20000000e+01],\n",
       "        [  7.66952779e-06,   5.00000000e+00],\n",
       "        [  5.40134379e-08,   4.00000000e+00],\n",
       "        [  5.40134379e-08,   3.00000000e+00],\n",
       "        [  5.40134379e-08,   2.00000000e+00],\n",
       "        [  7.66952779e-06,   1.00000000e+00],\n",
       "        [  7.66952779e-06,   1.00000000e+00],\n",
       "        [  1.98181894e+01,   1.00000000e+00],\n",
       "        [  2.01001426e+01,   1.00000000e+00],\n",
       "        [  2.01048353e+01,   1.00000000e+00],\n",
       "        [  2.01153663e+01,   1.00000000e+00],\n",
       "        [  2.07062953e+01,   1.00000000e+00],\n",
       "        [  2.18605864e+01,   1.00000000e+00],\n",
       "        [  2.52943266e+01,   1.00000000e+00],\n",
       "        [  2.59962522e+01,   1.00000000e+00]]),\n",
       " array([[  1.74271808e-07,   5.50000000e+01],\n",
       "        [  1.74271808e-07,   1.90000000e+01],\n",
       "        [  2.47453694e-05,   8.00000000e+00],\n",
       "        [  1.74271808e-07,   5.00000000e+00],\n",
       "        [  1.74271808e-07,   1.00000000e+00],\n",
       "        [  2.35814873e+01,   1.00000000e+00],\n",
       "        [  2.25670591e+01,   1.00000000e+00],\n",
       "        [  2.20060811e+01,   1.00000000e+00],\n",
       "        [  2.19126205e+01,   1.00000000e+00],\n",
       "        [  2.76829486e-02,   1.00000000e+00],\n",
       "        [  2.07335055e-02,   1.00000000e+00],\n",
       "        [  2.72730716e+01,   1.00000000e+00],\n",
       "        [  2.47453694e-05,   1.00000000e+00],\n",
       "        [  2.47453694e-05,   1.00000000e+00],\n",
       "        [  2.47453694e-05,   1.00000000e+00],\n",
       "        [  2.09217557e-02,   1.00000000e+00],\n",
       "        [  2.73557539e+01,   1.00000000e+00]]),\n",
       " array([[  4.81057460e-07,   3.40000000e+01],\n",
       "        [  4.81057460e-07,   2.70000000e+01],\n",
       "        [  4.81057460e-07,   1.10000000e+01],\n",
       "        [  6.83067715e-05,   5.00000000e+00],\n",
       "        [  6.83067715e-05,   3.00000000e+00],\n",
       "        [  4.81057460e-07,   1.00000000e+00],\n",
       "        [  2.75734467e+01,   1.00000000e+00],\n",
       "        [  2.72978040e+01,   1.00000000e+00],\n",
       "        [  2.72310599e+01,   1.00000000e+00],\n",
       "        [  2.69786322e+01,   1.00000000e+00],\n",
       "        [  2.55867552e+01,   1.00000000e+00],\n",
       "        [  6.59601717e-02,   1.00000000e+00],\n",
       "        [  6.02480069e-02,   1.00000000e+00],\n",
       "        [  5.86122929e-02,   1.00000000e+00],\n",
       "        [  5.28150412e-02,   1.00000000e+00],\n",
       "        [  5.64105090e-02,   1.00000000e+00],\n",
       "        [  3.18563161e+01,   1.00000000e+00],\n",
       "        [  5.19431946e-02,   1.00000000e+00],\n",
       "        [  4.85045696e-02,   1.00000000e+00],\n",
       "        [  3.96154991e-02,   1.00000000e+00],\n",
       "        [  3.23824221e-02,   1.00000000e+00],\n",
       "        [  6.83067715e-05,   1.00000000e+00],\n",
       "        [  4.81057460e-07,   1.00000000e+00],\n",
       "        [  5.78917039e-02,   1.00000000e+00],\n",
       "        [  3.29792316e+01,   1.00000000e+00]]),\n",
       " array([[  1.07392287e-06,   3.30000000e+01],\n",
       "        [  1.07392287e-06,   2.00000000e+01],\n",
       "        [  1.07392287e-06,   1.20000000e+01],\n",
       "        [  1.52489485e-04,   5.00000000e+00],\n",
       "        [  1.07392287e-06,   3.00000000e+00],\n",
       "        [  1.52489485e-04,   2.00000000e+00],\n",
       "        [  1.28515113e-01,   1.00000000e+00],\n",
       "        [  1.29788579e-01,   1.00000000e+00],\n",
       "        [  1.31747175e-01,   1.00000000e+00],\n",
       "        [  1.33772073e-01,   1.00000000e+00],\n",
       "        [  3.67874511e+01,   1.00000000e+00],\n",
       "        [  3.67534790e+01,   1.00000000e+00],\n",
       "        [  1.26080599e-01,   1.00000000e+00],\n",
       "        [  3.70751801e+01,   1.00000000e+00],\n",
       "        [  3.79668854e+01,   1.00000000e+00],\n",
       "        [  3.58910743e+01,   1.00000000e+00],\n",
       "        [  1.24235490e-01,   1.00000000e+00],\n",
       "        [  1.14479708e-01,   1.00000000e+00],\n",
       "        [  1.19028782e-01,   1.00000000e+00],\n",
       "        [  4.38843351e+01,   1.00000000e+00],\n",
       "        [  1.05647140e-01,   1.00000000e+00],\n",
       "        [  1.04082949e-01,   1.00000000e+00],\n",
       "        [  9.95679497e-02,   1.00000000e+00],\n",
       "        [  9.89453370e-02,   1.00000000e+00],\n",
       "        [  8.93796379e-02,   1.00000000e+00],\n",
       "        [  8.15353616e-02,   1.00000000e+00],\n",
       "        [  7.44554587e-02,   1.00000000e+00],\n",
       "        [  6.88272573e-02,   1.00000000e+00],\n",
       "        [  4.01254863e-02,   1.00000000e+00],\n",
       "        [  1.23152519e-01,   1.00000000e+00],\n",
       "        [  4.43500502e+01,   1.00000000e+00]]),\n",
       " array([[  1.89429617e-06,   3.30000000e+01],\n",
       "        [  1.89429617e-06,   8.00000000e+00],\n",
       "        [  1.89429617e-06,   8.00000000e+00],\n",
       "        [  2.68976716e-04,   6.00000000e+00],\n",
       "        [  1.89429617e-06,   5.00000000e+00],\n",
       "        [  1.89429617e-06,   3.00000000e+00],\n",
       "        [  1.89429617e-06,   2.00000000e+00],\n",
       "        [  2.68976716e-04,   2.00000000e+00],\n",
       "        [  1.89429617e-06,   1.00000000e+00],\n",
       "        [  2.55655156e-01,   1.00000000e+00],\n",
       "        [  2.64034121e-01,   1.00000000e+00],\n",
       "        [  2.65117575e-01,   1.00000000e+00],\n",
       "        [  2.68328751e-01,   1.00000000e+00],\n",
       "        [  2.71373711e-01,   1.00000000e+00],\n",
       "        [  2.71930110e-01,   1.00000000e+00],\n",
       "        [  5.63307077e+01,   1.00000000e+00],\n",
       "        [  2.81792883e-01,   1.00000000e+00],\n",
       "        [  5.43496147e+01,   1.00000000e+00],\n",
       "        [  5.60071546e+01,   1.00000000e+00],\n",
       "        [  2.49667353e-01,   1.00000000e+00],\n",
       "        [  5.66085768e+01,   1.00000000e+00],\n",
       "        [  5.86555941e+01,   1.00000000e+00],\n",
       "        [  2.72562066e-01,   1.00000000e+00],\n",
       "        [  2.42107476e-01,   1.00000000e+00],\n",
       "        [  2.25487030e-01,   1.00000000e+00],\n",
       "        [  2.31185620e-01,   1.00000000e+00],\n",
       "        [  2.29363918e-01,   1.00000000e+00],\n",
       "        [  6.30367217e+01,   1.00000000e+00],\n",
       "        [  2.21535226e-01,   1.00000000e+00],\n",
       "        [  2.12373341e-01,   1.00000000e+00],\n",
       "        [  2.09177248e-01,   1.00000000e+00],\n",
       "        [  2.07883333e-01,   1.00000000e+00],\n",
       "        [  1.99108371e-01,   1.00000000e+00],\n",
       "        [  1.95997051e-01,   1.00000000e+00],\n",
       "        [  1.93962971e-01,   1.00000000e+00],\n",
       "        [  1.78752451e-01,   1.00000000e+00],\n",
       "        [  1.66227742e-01,   1.00000000e+00],\n",
       "        [  1.53182828e-01,   1.00000000e+00],\n",
       "        [  2.68976716e-04,   1.00000000e+00],\n",
       "        [  2.36085248e-01,   1.00000000e+00],\n",
       "        [  6.53175695e+01,   1.00000000e+00]]),\n",
       " array([[  2.71075938e-06,   2.90000000e+01],\n",
       "        [  2.71075938e-06,   1.20000000e+01],\n",
       "        [  2.71075938e-06,   1.00000000e+01],\n",
       "        [  3.84908742e-04,   5.00000000e+00],\n",
       "        [  3.84908742e-04,   3.00000000e+00],\n",
       "        [  3.84908742e-04,   3.00000000e+00],\n",
       "        [  2.71075938e-06,   2.00000000e+00],\n",
       "        [  3.84908742e-04,   2.00000000e+00],\n",
       "        [  5.37272317e-01,   1.00000000e+00],\n",
       "        [  5.43216979e-01,   1.00000000e+00],\n",
       "        [  5.45540958e-01,   1.00000000e+00],\n",
       "        [  5.49157843e-01,   1.00000000e+00],\n",
       "        [  5.56493991e-01,   1.00000000e+00],\n",
       "        [  5.61092299e-01,   1.00000000e+00],\n",
       "        [  5.62723310e-01,   1.00000000e+00],\n",
       "        [  9.57328856e+01,   1.00000000e+00],\n",
       "        [  9.36532709e+01,   1.00000000e+00],\n",
       "        [  9.46266517e+01,   1.00000000e+00],\n",
       "        [  5.31240959e-01,   1.00000000e+00],\n",
       "        [  9.80303412e+01,   1.00000000e+00],\n",
       "        [  9.80694690e+01,   1.00000000e+00],\n",
       "        [  1.00898849e+02,   1.00000000e+00],\n",
       "        [  5.63737170e-01,   1.00000000e+00],\n",
       "        [  5.30442877e-01,   1.00000000e+00],\n",
       "        [  5.13436086e-01,   1.00000000e+00],\n",
       "        [  5.20884687e-01,   1.00000000e+00],\n",
       "        [  3.69787306e-01,   1.00000000e+00],\n",
       "        [  3.74519824e-01,   1.00000000e+00],\n",
       "        [  3.95459249e-01,   1.00000000e+00],\n",
       "        [  4.44172584e-01,   1.00000000e+00],\n",
       "        [  4.83981369e-01,   1.00000000e+00],\n",
       "        [  4.93121143e-01,   1.00000000e+00],\n",
       "        [  5.22875306e-01,   1.00000000e+00],\n",
       "        [  4.95621313e-01,   1.00000000e+00],\n",
       "        [  4.98121257e-01,   1.00000000e+00],\n",
       "        [  5.03251026e-01,   1.00000000e+00],\n",
       "        [  5.06689610e-01,   1.00000000e+00],\n",
       "        [  5.11999529e-01,   1.00000000e+00],\n",
       "        [  1.05987356e+02,   1.00000000e+00],\n",
       "        [  5.14510409e-01,   1.00000000e+00],\n",
       "        [  4.96089951e-01,   1.00000000e+00],\n",
       "        [  1.07145847e+02,   1.00000000e+00]]),\n",
       " array([[  3.33268604e-06,   2.10000000e+01],\n",
       "        [  3.33268604e-06,   2.10000000e+01],\n",
       "        [  4.73217946e-04,   1.00000000e+01],\n",
       "        [  3.33268604e-06,   4.00000000e+00],\n",
       "        [  4.73217946e-04,   4.00000000e+00],\n",
       "        [  3.33268604e-06,   1.00000000e+00],\n",
       "        [  1.10015792e+00,   1.00000000e+00],\n",
       "        [  1.10720241e+00,   1.00000000e+00],\n",
       "        [  1.10967813e+00,   1.00000000e+00],\n",
       "        [  1.11272353e+00,   1.00000000e+00],\n",
       "        [  1.12004190e+00,   1.00000000e+00],\n",
       "        [  1.12836629e+00,   1.00000000e+00],\n",
       "        [  1.13019909e+00,   1.00000000e+00],\n",
       "        [  1.13277493e+00,   1.00000000e+00],\n",
       "        [  1.65255494e+02,   1.00000000e+00],\n",
       "        [  1.64323753e+02,   1.00000000e+00],\n",
       "        [  1.09504641e+00,   1.00000000e+00],\n",
       "        [  1.65263253e+02,   1.00000000e+00],\n",
       "        [  1.73828301e+02,   1.00000000e+00],\n",
       "        [  1.74223854e+02,   1.00000000e+00],\n",
       "        [  1.75861348e+02,   1.00000000e+00],\n",
       "        [  1.88410277e+02,   1.00000000e+00],\n",
       "        [  1.14387057e+00,   1.00000000e+00],\n",
       "        [  1.08489731e+00,   1.00000000e+00],\n",
       "        [  1.05842470e+00,   1.00000000e+00],\n",
       "        [  1.06360118e+00,   1.00000000e+00],\n",
       "        [  3.33268604e-06,   1.00000000e+00],\n",
       "        [  3.33268604e-06,   1.00000000e+00],\n",
       "        [  4.73217946e-04,   1.00000000e+00],\n",
       "        [  4.73217946e-04,   1.00000000e+00],\n",
       "        [  4.73217946e-04,   1.00000000e+00],\n",
       "        [  9.47173639e-01,   1.00000000e+00],\n",
       "        [  9.68919434e-01,   1.00000000e+00],\n",
       "        [  9.74928043e-01,   1.00000000e+00],\n",
       "        [  9.84840137e-01,   1.00000000e+00],\n",
       "        [  9.95425020e-01,   1.00000000e+00],\n",
       "        [  9.99645519e-01,   1.00000000e+00],\n",
       "        [  1.00467438e+00,   1.00000000e+00],\n",
       "        [  1.02905411e+00,   1.00000000e+00],\n",
       "        [  1.03356980e+00,   1.00000000e+00],\n",
       "        [  1.03447462e+00,   1.00000000e+00],\n",
       "        [  1.04133174e+00,   1.00000000e+00],\n",
       "        [  1.90255378e+02,   1.00000000e+00],\n",
       "        [  1.07382296e+00,   1.00000000e+00],\n",
       "        [  1.93989134e+02,   1.00000000e+00]]),\n",
       " array([[  3.72714663e-06,   3.10000000e+01],\n",
       "        [  3.72714663e-06,   1.70000000e+01],\n",
       "        [  5.29228573e-04,   8.00000000e+00],\n",
       "        [  3.72714663e-06,   4.00000000e+00],\n",
       "        [  5.29228573e-04,   2.00000000e+00],\n",
       "        [  2.20730745e+00,   1.00000000e+00],\n",
       "        [  2.22006505e+00,   1.00000000e+00],\n",
       "        [  2.22536626e+00,   1.00000000e+00],\n",
       "        [  2.23217321e+00,   1.00000000e+00],\n",
       "        [  2.23949691e+00,   1.00000000e+00],\n",
       "        [  2.25036930e+00,   1.00000000e+00],\n",
       "        [  2.25304057e+00,   1.00000000e+00],\n",
       "        [  2.28168835e+00,   1.00000000e+00],\n",
       "        [  2.29103868e+00,   1.00000000e+00],\n",
       "        [  2.19844909e+00,   1.00000000e+00],\n",
       "        [  3.19443414e+02,   1.00000000e+00],\n",
       "        [  3.21863705e+02,   1.00000000e+00],\n",
       "        [  3.27074325e+02,   1.00000000e+00],\n",
       "        [  3.35156234e+02,   1.00000000e+00],\n",
       "        [  3.36343970e+02,   1.00000000e+00],\n",
       "        [  3.42263704e+02,   1.00000000e+00],\n",
       "        [  2.28594021e+00,   1.00000000e+00],\n",
       "        [  2.19082707e+00,   1.00000000e+00],\n",
       "        [  2.18360930e+00,   1.00000000e+00],\n",
       "        [  3.48904381e+02,   1.00000000e+00],\n",
       "        [  3.72714663e-06,   1.00000000e+00],\n",
       "        [  5.29228573e-04,   1.00000000e+00],\n",
       "        [  5.29228573e-04,   1.00000000e+00],\n",
       "        [  2.07658708e+00,   1.00000000e+00],\n",
       "        [  2.09890826e+00,   1.00000000e+00],\n",
       "        [  2.10523923e+00,   1.00000000e+00],\n",
       "        [  2.10527831e+00,   1.00000000e+00],\n",
       "        [  2.19020741e+00,   1.00000000e+00],\n",
       "        [  2.13130134e+00,   1.00000000e+00],\n",
       "        [  2.13804985e+00,   1.00000000e+00],\n",
       "        [  2.14371020e+00,   1.00000000e+00],\n",
       "        [  2.14679413e+00,   1.00000000e+00],\n",
       "        [  2.15010988e+00,   1.00000000e+00],\n",
       "        [  2.15194003e+00,   1.00000000e+00],\n",
       "        [  2.15311894e+00,   1.00000000e+00],\n",
       "        [  2.16503806e+00,   1.00000000e+00],\n",
       "        [  2.13337250e+00,   1.00000000e+00],\n",
       "        [  3.53085952e+02,   1.00000000e+00]]),\n",
       " array([[  3.95116932e-06,   3.90000000e+01],\n",
       "        [  3.95116932e-06,   1.10000000e+01],\n",
       "        [  5.61038217e-04,   7.00000000e+00],\n",
       "        [  5.61038217e-04,   3.00000000e+00],\n",
       "        [  5.61038217e-04,   3.00000000e+00],\n",
       "        [  3.95116932e-06,   2.00000000e+00],\n",
       "        [  5.61038217e-04,   2.00000000e+00],\n",
       "        [  3.95116932e-06,   1.00000000e+00],\n",
       "        [  4.49731748e+00,   1.00000000e+00],\n",
       "        [  4.52729943e+00,   1.00000000e+00],\n",
       "        [  4.54050023e+00,   1.00000000e+00],\n",
       "        [  4.54541924e+00,   1.00000000e+00],\n",
       "        [  4.56199394e+00,   1.00000000e+00],\n",
       "        [  4.56652614e+00,   1.00000000e+00],\n",
       "        [  6.40475325e+02,   1.00000000e+00],\n",
       "        [  6.23916826e+02,   1.00000000e+00],\n",
       "        [  6.33754886e+02,   1.00000000e+00],\n",
       "        [  4.48991431e+00,   1.00000000e+00],\n",
       "        [  6.44073972e+02,   1.00000000e+00],\n",
       "        [  6.45582737e+02,   1.00000000e+00],\n",
       "        [  6.50638513e+02,   1.00000000e+00],\n",
       "        [  4.60804594e+00,   1.00000000e+00],\n",
       "        [  4.45869828e+00,   1.00000000e+00],\n",
       "        [  4.38431885e+00,   1.00000000e+00],\n",
       "        [  4.44527534e+00,   1.00000000e+00],\n",
       "        [  4.43369364e+00,   1.00000000e+00],\n",
       "        [  6.73903330e+02,   1.00000000e+00],\n",
       "        [  4.37639755e+00,   1.00000000e+00],\n",
       "        [  4.37012552e+00,   1.00000000e+00],\n",
       "        [  4.34621899e+00,   1.00000000e+00],\n",
       "        [  4.33156830e+00,   1.00000000e+00],\n",
       "        [  4.27504291e+00,   1.00000000e+00],\n",
       "        [  4.27352521e+00,   1.00000000e+00],\n",
       "        [  4.27263907e+00,   1.00000000e+00],\n",
       "        [  4.26943212e+00,   1.00000000e+00],\n",
       "        [  4.23987383e+00,   1.00000000e+00],\n",
       "        [  4.23710017e+00,   1.00000000e+00],\n",
       "        [  4.23615863e+00,   1.00000000e+00],\n",
       "        [  4.45615707e+00,   1.00000000e+00],\n",
       "        [  6.82656747e+02,   1.00000000e+00]]),\n",
       " array([[  4.07083076e-06,   3.20000000e+01],\n",
       "        [  5.78029298e-04,   8.00000000e+00],\n",
       "        [  4.07083076e-06,   5.00000000e+00],\n",
       "        [  4.07083076e-06,   4.00000000e+00],\n",
       "        [  5.78029298e-04,   4.00000000e+00],\n",
       "        [  5.78029298e-04,   3.00000000e+00],\n",
       "        [  8.94797679e+00,   1.00000000e+00],\n",
       "        [  8.99032108e+00,   1.00000000e+00],\n",
       "        [  8.99644417e+00,   1.00000000e+00],\n",
       "        [  9.07227015e+00,   1.00000000e+00],\n",
       "        [  9.08555286e+00,   1.00000000e+00],\n",
       "        [  9.10731448e+00,   1.00000000e+00],\n",
       "        [  9.10948434e+00,   1.00000000e+00],\n",
       "        [  9.12379271e+00,   1.00000000e+00],\n",
       "        [  9.18104875e+00,   1.00000000e+00],\n",
       "        [  1.14236592e-07,   1.00000000e+00],\n",
       "        [  1.22709155e+03,   1.00000000e+00],\n",
       "        [  8.93987455e+00,   1.00000000e+00],\n",
       "        [  1.23575053e+03,   1.00000000e+00],\n",
       "        [  1.25141785e+03,   1.00000000e+00],\n",
       "        [  1.26630920e+03,   1.00000000e+00],\n",
       "        [  1.27135903e+03,   1.00000000e+00],\n",
       "        [  1.27411770e+03,   1.00000000e+00],\n",
       "        [  1.28105282e+03,   1.00000000e+00],\n",
       "        [  1.22125850e+03,   1.00000000e+00],\n",
       "        [  8.93245101e+00,   1.00000000e+00],\n",
       "        [  8.79897806e+00,   1.00000000e+00],\n",
       "        [  8.86923402e+00,   1.00000000e+00],\n",
       "        [  1.14783983e-07,   1.00000000e+00],\n",
       "        [  1.52772836e-07,   1.00000000e+00],\n",
       "        [  1.63532563e-07,   1.00000000e+00],\n",
       "        [  8.75386996e-07,   1.00000000e+00],\n",
       "        [  4.07083076e-06,   1.00000000e+00],\n",
       "        [  5.78029298e-04,   1.00000000e+00],\n",
       "        [  8.64678932e+00,   1.00000000e+00],\n",
       "        [  8.64772650e+00,   1.00000000e+00],\n",
       "        [  8.90392427e+00,   1.00000000e+00],\n",
       "        [  8.64788752e+00,   1.00000000e+00],\n",
       "        [  8.67754710e+00,   1.00000000e+00],\n",
       "        [  8.72154671e+00,   1.00000000e+00],\n",
       "        [  8.74293816e+00,   1.00000000e+00],\n",
       "        [  8.74302248e+00,   1.00000000e+00],\n",
       "        [  8.77933847e+00,   1.00000000e+00],\n",
       "        [  8.79030169e+00,   1.00000000e+00],\n",
       "        [  1.29952051e+03,   1.00000000e+00],\n",
       "        [  8.85143599e+00,   1.00000000e+00],\n",
       "        [  8.66332343e+00,   1.00000000e+00],\n",
       "        [  1.32096821e+03,   1.00000000e+00]]),\n",
       " array([[  4.13271004e-06,   1.30000000e+01],\n",
       "        [  5.86815721e-04,   7.00000000e+00],\n",
       "        [  5.86815721e-04,   7.00000000e+00],\n",
       "        [  4.13271004e-06,   7.00000000e+00],\n",
       "        [  5.86815721e-04,   6.00000000e+00],\n",
       "        [  9.50836108e-09,   1.00000000e+00],\n",
       "        [  1.77376930e+01,   1.00000000e+00],\n",
       "        [  1.77909588e+01,   1.00000000e+00],\n",
       "        [  1.78010393e+01,   1.00000000e+00],\n",
       "        [  1.79352738e+01,   1.00000000e+00],\n",
       "        [  1.80205699e+01,   1.00000000e+00],\n",
       "        [  1.81115391e+01,   1.00000000e+00],\n",
       "        [  1.81253926e+01,   1.00000000e+00],\n",
       "        [  1.81989946e+01,   1.00000000e+00],\n",
       "        [  1.82293123e+01,   1.00000000e+00],\n",
       "        [  1.82390610e+01,   1.00000000e+00],\n",
       "        [  1.84171805e+01,   1.00000000e+00],\n",
       "        [  2.31395761e+03,   1.00000000e+00],\n",
       "        [  2.47700242e+03,   1.00000000e+00],\n",
       "        [  2.49105932e+03,   1.00000000e+00],\n",
       "        [  2.49983047e+03,   1.00000000e+00],\n",
       "        [  2.50228398e+03,   1.00000000e+00],\n",
       "        [  2.58011894e+03,   1.00000000e+00],\n",
       "        [  2.58202298e+03,   1.00000000e+00],\n",
       "        [  1.76546005e+01,   1.00000000e+00],\n",
       "        [  1.75226418e+01,   1.00000000e+00],\n",
       "        [  1.74660394e+01,   1.00000000e+00],\n",
       "        [  1.74893853e+01,   1.00000000e+00],\n",
       "        [  6.30384622e-08,   1.00000000e+00],\n",
       "        [  9.09300847e-08,   1.00000000e+00],\n",
       "        [  2.49344593e-07,   1.00000000e+00],\n",
       "        [  1.38426770e-06,   1.00000000e+00],\n",
       "        [  1.63408029e-06,   1.00000000e+00],\n",
       "        [  2.24361206e-06,   1.00000000e+00],\n",
       "        [  2.62350177e-06,   1.00000000e+00],\n",
       "        [  3.08757339e-06,   1.00000000e+00],\n",
       "        [  1.75158012e+01,   1.00000000e+00],\n",
       "        [  4.12981174e-06,   1.00000000e+00],\n",
       "        [  4.13244414e-06,   1.00000000e+00],\n",
       "        [  4.13251175e-06,   1.00000000e+00],\n",
       "        [  4.13253068e-06,   1.00000000e+00],\n",
       "        [  4.13271004e-06,   1.00000000e+00],\n",
       "        [  1.74349824e+01,   1.00000000e+00],\n",
       "        [  1.74399832e+01,   1.00000000e+00],\n",
       "        [  1.74408485e+01,   1.00000000e+00],\n",
       "        [  2.60803774e+03,   1.00000000e+00],\n",
       "        [  4.13175353e-06,   1.00000000e+00],\n",
       "        [  2.62978725e+03,   1.00000000e+00]]),\n",
       " array([[  5.91284241e-04,   1.10000000e+01],\n",
       "        [  4.16418005e-06,   6.00000000e+00],\n",
       "        [  5.91284241e-04,   6.00000000e+00],\n",
       "        [  4.16418005e-06,   4.00000000e+00],\n",
       "        [  5.91284241e-04,   2.00000000e+00],\n",
       "        [  3.58009730e+01,   1.00000000e+00],\n",
       "        [  3.59582829e+01,   1.00000000e+00],\n",
       "        [  3.59799438e+01,   1.00000000e+00],\n",
       "        [  3.61956640e+01,   1.00000000e+00],\n",
       "        [  3.62914271e+01,   1.00000000e+00],\n",
       "        [  3.63344723e+01,   1.00000000e+00],\n",
       "        [  3.64652260e+01,   1.00000000e+00],\n",
       "        [  1.51606662e-07,   1.00000000e+00],\n",
       "        [  3.65141034e+01,   1.00000000e+00],\n",
       "        [  3.65738169e+01,   1.00000000e+00],\n",
       "        [  3.71874553e+03,   1.00000000e+00],\n",
       "        [  4.35779085e+03,   1.00000000e+00],\n",
       "        [  4.89489221e+03,   1.00000000e+00],\n",
       "        [  4.91640757e+03,   1.00000000e+00],\n",
       "        [  4.91817061e+03,   1.00000000e+00],\n",
       "        [  4.94735508e+03,   1.00000000e+00],\n",
       "        [  4.95958674e+03,   1.00000000e+00],\n",
       "        [  3.56492131e+01,   1.00000000e+00],\n",
       "        [  3.55963496e+01,   1.00000000e+00],\n",
       "        [  3.52825634e+01,   1.00000000e+00],\n",
       "        [  3.55880264e+01,   1.00000000e+00],\n",
       "        [  2.14225518e-07,   1.00000000e+00],\n",
       "        [  9.88528434e-07,   1.00000000e+00],\n",
       "        [  1.12727280e-06,   1.00000000e+00],\n",
       "        [  1.31477208e-06,   1.00000000e+00],\n",
       "        [  1.35763792e-06,   1.00000000e+00],\n",
       "        [  1.46325393e-06,   1.00000000e+00],\n",
       "        [  2.19456648e-06,   1.00000000e+00],\n",
       "        [  2.63671331e-06,   1.00000000e+00],\n",
       "        [  3.51282828e-06,   1.00000000e+00],\n",
       "        [  3.50156913e+01,   1.00000000e+00],\n",
       "        [  3.50202787e+01,   1.00000000e+00],\n",
       "        [  3.50245463e+01,   1.00000000e+00],\n",
       "        [  3.50290037e+01,   1.00000000e+00],\n",
       "        [  3.51987270e+01,   1.00000000e+00],\n",
       "        [  3.52070632e+01,   1.00000000e+00],\n",
       "        [  3.52123616e+01,   1.00000000e+00],\n",
       "        [  5.00879146e+03,   1.00000000e+00],\n",
       "        [  3.55948367e+01,   1.00000000e+00],\n",
       "        [  5.01564850e+03,   1.00000000e+00]])]"
      ]
     },
     "execution_count": 72,
     "metadata": {},
     "output_type": "execute_result"
    }
   ],
   "source": [
    "[i for i in bag(wymar,0,5)]"
   ]
  },
  {
   "cell_type": "code",
   "execution_count": 34,
   "metadata": {},
   "outputs": [
    {
     "data": {
      "text/plain": [
       "array([ 1.38230791,  1.37834521,  1.37049018,  1.35505564,  1.32524316,\n",
       "        1.26951178,  1.17138333,  1.01537053,  0.80308674,  0.56752918,\n",
       "        0.35838145,  0.20654979,  0.11186437,  0.0583686 ,  0.02983553,\n",
       "        0.01508628,  4.96336347])"
      ]
     },
     "execution_count": 34,
     "metadata": {},
     "output_type": "execute_result"
    }
   ],
   "source": [
    "np.diff(np.log([i[0][0] for i in bag(wymar,0,5)]))"
   ]
  },
  {
   "cell_type": "code",
   "execution_count": 35,
   "metadata": {},
   "outputs": [],
   "source": [
    "diffs = np.diff(np.log([i[0][0] for i in bag(wymar,0,5)]))"
   ]
  },
  {
   "cell_type": "code",
   "execution_count": 36,
   "metadata": {},
   "outputs": [],
   "source": [
    "def rolling_window(a, window):\n",
    "    shape = a.shape[:-1] + (a.shape[-1] - window + 1, window)\n",
    "    strides = a.strides + (a.strides[-1],)\n",
    "    return np.lib.stride_tricks.as_strided(a, shape=shape, strides=strides)"
   ]
  },
  {
   "cell_type": "code",
   "execution_count": 37,
   "metadata": {},
   "outputs": [],
   "source": [
    "rolly = np.median(rolling_window(diffs,3),axis=1)"
   ]
  },
  {
   "cell_type": "code",
   "execution_count": 38,
   "metadata": {},
   "outputs": [],
   "source": [
    "diffs_addenda = diffs.shape"
   ]
  },
  {
   "cell_type": "code",
   "execution_count": 39,
   "metadata": {},
   "outputs": [],
   "source": [
    "diffmeeds = np.append(rolly[0],np.append(rolly,rolly[-1]))"
   ]
  },
  {
   "cell_type": "code",
   "execution_count": 40,
   "metadata": {},
   "outputs": [
    {
     "data": {
      "text/plain": [
       "(17,)"
      ]
     },
     "execution_count": 40,
     "metadata": {},
     "output_type": "execute_result"
    }
   ],
   "source": [
    "diffmeeds.shape"
   ]
  },
  {
   "cell_type": "code",
   "execution_count": 41,
   "metadata": {},
   "outputs": [
    {
     "data": {
      "text/plain": [
       "18"
      ]
     },
     "execution_count": 41,
     "metadata": {},
     "output_type": "execute_result"
    }
   ],
   "source": [
    "len([i[0][0] for i in bag(wymar,0,5)])"
   ]
  },
  {
   "cell_type": "code",
   "execution_count": 42,
   "metadata": {},
   "outputs": [
    {
     "ename": "NameError",
     "evalue": "name 'restest' is not defined",
     "output_type": "error",
     "traceback": [
      "\u001b[0;31m---------------------------------------------------------------------------\u001b[0m",
      "\u001b[0;31mNameError\u001b[0m                                 Traceback (most recent call last)",
      "\u001b[0;32m<ipython-input-42-f210936dcbf8>\u001b[0m in \u001b[0;36m<module>\u001b[0;34m()\u001b[0m\n\u001b[0;32m----> 1\u001b[0;31m \u001b[0mplt\u001b[0m\u001b[0;34m.\u001b[0m\u001b[0msemilogy\u001b[0m\u001b[0;34m(\u001b[0m\u001b[0mrestest\u001b[0m\u001b[0;34m,\u001b[0m\u001b[0;34m'.'\u001b[0m\u001b[0;34m)\u001b[0m\u001b[0;34m\u001b[0m\u001b[0m\n\u001b[0m",
      "\u001b[0;31mNameError\u001b[0m: name 'restest' is not defined"
     ]
    }
   ],
   "source": [
    "plt.semilogy(restest,'.')"
   ]
  },
  {
   "cell_type": "code",
   "execution_count": 43,
   "metadata": {},
   "outputs": [
    {
     "ename": "NameError",
     "evalue": "name 'restest' is not defined",
     "output_type": "error",
     "traceback": [
      "\u001b[0;31m---------------------------------------------------------------------------\u001b[0m",
      "\u001b[0;31mNameError\u001b[0m                                 Traceback (most recent call last)",
      "\u001b[0;32m<ipython-input-43-a23ee8e9b27c>\u001b[0m in \u001b[0;36m<module>\u001b[0;34m()\u001b[0m\n\u001b[0;32m----> 1\u001b[0;31m \u001b[0msmdev\u001b[0m\u001b[0;34m(\u001b[0m\u001b[0mrestest\u001b[0m\u001b[0;34m)\u001b[0m\u001b[0;34m\u001b[0m\u001b[0m\n\u001b[0m",
      "\u001b[0;31mNameError\u001b[0m: name 'restest' is not defined"
     ]
    }
   ],
   "source": [
    "smdev(restest)"
   ]
  },
  {
   "cell_type": "code",
   "execution_count": 44,
   "metadata": {},
   "outputs": [
    {
     "ename": "NameError",
     "evalue": "name 'restest' is not defined",
     "output_type": "error",
     "traceback": [
      "\u001b[0;31m---------------------------------------------------------------------------\u001b[0m",
      "\u001b[0;31mNameError\u001b[0m                                 Traceback (most recent call last)",
      "\u001b[0;32m<ipython-input-44-375b03786786>\u001b[0m in \u001b[0;36m<module>\u001b[0;34m()\u001b[0m\n\u001b[0;32m----> 1\u001b[0;31m \u001b[0ma\u001b[0m \u001b[0;34m=\u001b[0m \u001b[0msignal\u001b[0m\u001b[0;34m.\u001b[0m\u001b[0msavgol_filter\u001b[0m\u001b[0;34m(\u001b[0m\u001b[0mrestest\u001b[0m\u001b[0;34m,\u001b[0m\u001b[0mwindow_length\u001b[0m\u001b[0;34m=\u001b[0m\u001b[0;36m3\u001b[0m\u001b[0;34m,\u001b[0m\u001b[0mpolyorder\u001b[0m\u001b[0;34m=\u001b[0m\u001b[0;36m2\u001b[0m\u001b[0;34m)\u001b[0m\u001b[0;34m\u001b[0m\u001b[0m\n\u001b[0m",
      "\u001b[0;31mNameError\u001b[0m: name 'restest' is not defined"
     ]
    }
   ],
   "source": [
    "a = signal.savgol_filter(restest,window_length=3,polyorder=2)"
   ]
  },
  {
   "cell_type": "code",
   "execution_count": 45,
   "metadata": {},
   "outputs": [
    {
     "ename": "NameError",
     "evalue": "name 'a' is not defined",
     "output_type": "error",
     "traceback": [
      "\u001b[0;31m---------------------------------------------------------------------------\u001b[0m",
      "\u001b[0;31mNameError\u001b[0m                                 Traceback (most recent call last)",
      "\u001b[0;32m<ipython-input-45-3112675903d8>\u001b[0m in \u001b[0;36m<module>\u001b[0;34m()\u001b[0m\n\u001b[0;32m----> 1\u001b[0;31m \u001b[0mplt\u001b[0m\u001b[0;34m.\u001b[0m\u001b[0mplot\u001b[0m\u001b[0;34m(\u001b[0m\u001b[0mnp\u001b[0m\u001b[0;34m.\u001b[0m\u001b[0mabs\u001b[0m\u001b[0;34m(\u001b[0m\u001b[0ma\u001b[0m\u001b[0;34m[\u001b[0m\u001b[0;36m1\u001b[0m\u001b[0;34m:\u001b[0m\u001b[0;34m]\u001b[0m \u001b[0;34m-\u001b[0m \u001b[0ma\u001b[0m\u001b[0;34m[\u001b[0m\u001b[0;34m:\u001b[0m\u001b[0;34m-\u001b[0m\u001b[0;36m1\u001b[0m\u001b[0;34m]\u001b[0m\u001b[0;34m)\u001b[0m\u001b[0;34m,\u001b[0m\u001b[0;34m'.'\u001b[0m\u001b[0;34m)\u001b[0m\u001b[0;34m\u001b[0m\u001b[0m\n\u001b[0m",
      "\u001b[0;31mNameError\u001b[0m: name 'a' is not defined"
     ]
    }
   ],
   "source": [
    "plt.plot(np.abs(a[1:] - a[:-1]),'.')"
   ]
  },
  {
   "cell_type": "code",
   "execution_count": 46,
   "metadata": {},
   "outputs": [
    {
     "ename": "NameError",
     "evalue": "name 'restest' is not defined",
     "output_type": "error",
     "traceback": [
      "\u001b[0;31m---------------------------------------------------------------------------\u001b[0m",
      "\u001b[0;31mNameError\u001b[0m                                 Traceback (most recent call last)",
      "\u001b[0;32m<ipython-input-46-14c265191485>\u001b[0m in \u001b[0;36m<module>\u001b[0;34m()\u001b[0m\n\u001b[0;32m----> 1\u001b[0;31m \u001b[0mb\u001b[0m \u001b[0;34m=\u001b[0m \u001b[0mnp\u001b[0m\u001b[0;34m.\u001b[0m\u001b[0marray\u001b[0m\u001b[0;34m(\u001b[0m\u001b[0mrestest\u001b[0m\u001b[0;34m)\u001b[0m\u001b[0;34m\u001b[0m\u001b[0m\n\u001b[0m",
      "\u001b[0;31mNameError\u001b[0m: name 'restest' is not defined"
     ]
    }
   ],
   "source": [
    "b = np.array(restest)"
   ]
  },
  {
   "cell_type": "code",
   "execution_count": 47,
   "metadata": {},
   "outputs": [
    {
     "ename": "NameError",
     "evalue": "name 'b' is not defined",
     "output_type": "error",
     "traceback": [
      "\u001b[0;31m---------------------------------------------------------------------------\u001b[0m",
      "\u001b[0;31mNameError\u001b[0m                                 Traceback (most recent call last)",
      "\u001b[0;32m<ipython-input-47-17ec6a19bc38>\u001b[0m in \u001b[0;36m<module>\u001b[0;34m()\u001b[0m\n\u001b[0;32m----> 1\u001b[0;31m \u001b[0mplt\u001b[0m\u001b[0;34m.\u001b[0m\u001b[0mplot\u001b[0m\u001b[0;34m(\u001b[0m\u001b[0;34m(\u001b[0m\u001b[0mb\u001b[0m\u001b[0;34m[\u001b[0m\u001b[0;36m1\u001b[0m\u001b[0;34m:\u001b[0m\u001b[0;34m]\u001b[0m \u001b[0;34m-\u001b[0m \u001b[0mb\u001b[0m\u001b[0;34m[\u001b[0m\u001b[0;34m:\u001b[0m\u001b[0;36m1\u001b[0m\u001b[0;34m]\u001b[0m\u001b[0;34m)\u001b[0m\u001b[0;34m/\u001b[0m\u001b[0mb\u001b[0m\u001b[0;34m[\u001b[0m\u001b[0;34m:\u001b[0m\u001b[0;34m-\u001b[0m\u001b[0;36m1\u001b[0m\u001b[0;34m]\u001b[0m\u001b[0;34m)\u001b[0m\u001b[0;34m\u001b[0m\u001b[0m\n\u001b[0m",
      "\u001b[0;31mNameError\u001b[0m: name 'b' is not defined"
     ]
    }
   ],
   "source": [
    "plt.plot((b[1:] - b[:1])/b[:-1])"
   ]
  },
  {
   "cell_type": "code",
   "execution_count": 48,
   "metadata": {},
   "outputs": [],
   "source": [
    "import numpy as np\n",
    "\n",
    "def outliers_modified_z_score(ys):\n",
    "    threshold = 5\n",
    "\n",
    "    median_y = np.median(ys)\n",
    "    median_absolute_deviation_y = np.median([np.abs(y - median_y) for y in ys])\n",
    "    modified_z_scores = [0.6745 * (y - median_y) / median_absolute_deviation_y\n",
    "                         for y in ys]\n",
    "    return np.where(np.abs(modified_z_scores) > threshold)"
   ]
  },
  {
   "cell_type": "code",
   "execution_count": 49,
   "metadata": {},
   "outputs": [
    {
     "ename": "NameError",
     "evalue": "name 'b' is not defined",
     "output_type": "error",
     "traceback": [
      "\u001b[0;31m---------------------------------------------------------------------------\u001b[0m",
      "\u001b[0;31mNameError\u001b[0m                                 Traceback (most recent call last)",
      "\u001b[0;32m<ipython-input-49-48a1b35fd77b>\u001b[0m in \u001b[0;36m<module>\u001b[0;34m()\u001b[0m\n\u001b[0;32m----> 1\u001b[0;31m \u001b[0moutliers_modified_z_score\u001b[0m\u001b[0;34m(\u001b[0m\u001b[0;34m(\u001b[0m\u001b[0;34m(\u001b[0m\u001b[0mb\u001b[0m\u001b[0;34m[\u001b[0m\u001b[0;36m1\u001b[0m\u001b[0;34m:\u001b[0m\u001b[0;34m]\u001b[0m \u001b[0;34m-\u001b[0m \u001b[0mb\u001b[0m\u001b[0;34m[\u001b[0m\u001b[0;34m:\u001b[0m\u001b[0;36m1\u001b[0m\u001b[0;34m]\u001b[0m\u001b[0;34m)\u001b[0m\u001b[0;34m/\u001b[0m\u001b[0mb\u001b[0m\u001b[0;34m[\u001b[0m\u001b[0;34m:\u001b[0m\u001b[0;34m-\u001b[0m\u001b[0;36m1\u001b[0m\u001b[0;34m]\u001b[0m\u001b[0;34m)\u001b[0m\u001b[0;34m)\u001b[0m\u001b[0;34m\u001b[0m\u001b[0m\n\u001b[0m",
      "\u001b[0;31mNameError\u001b[0m: name 'b' is not defined"
     ]
    }
   ],
   "source": [
    "outliers_modified_z_score(((b[1:] - b[:1])/b[:-1]))"
   ]
  },
  {
   "cell_type": "code",
   "execution_count": 50,
   "metadata": {},
   "outputs": [],
   "source": [
    "from scipy import interpolate"
   ]
  },
  {
   "cell_type": "code",
   "execution_count": 51,
   "metadata": {},
   "outputs": [
    {
     "ename": "NameError",
     "evalue": "name 'restest' is not defined",
     "output_type": "error",
     "traceback": [
      "\u001b[0;31m---------------------------------------------------------------------------\u001b[0m",
      "\u001b[0;31mNameError\u001b[0m                                 Traceback (most recent call last)",
      "\u001b[0;32m<ipython-input-51-76e8fcaea419>\u001b[0m in \u001b[0;36m<module>\u001b[0;34m()\u001b[0m\n\u001b[0;32m----> 1\u001b[0;31m \u001b[0mx\u001b[0m \u001b[0;34m=\u001b[0m \u001b[0mnp\u001b[0m\u001b[0;34m.\u001b[0m\u001b[0marange\u001b[0m\u001b[0;34m(\u001b[0m\u001b[0mlen\u001b[0m\u001b[0;34m(\u001b[0m\u001b[0mrestest\u001b[0m\u001b[0;34m)\u001b[0m\u001b[0;34m)\u001b[0m\u001b[0;34m\u001b[0m\u001b[0m\n\u001b[0m",
      "\u001b[0;31mNameError\u001b[0m: name 'restest' is not defined"
     ]
    }
   ],
   "source": [
    "x = np.arange(len(restest))"
   ]
  },
  {
   "cell_type": "code",
   "execution_count": 52,
   "metadata": {},
   "outputs": [
    {
     "ename": "NameError",
     "evalue": "name 'x' is not defined",
     "output_type": "error",
     "traceback": [
      "\u001b[0;31m---------------------------------------------------------------------------\u001b[0m",
      "\u001b[0;31mNameError\u001b[0m                                 Traceback (most recent call last)",
      "\u001b[0;32m<ipython-input-52-77438304bcaf>\u001b[0m in \u001b[0;36m<module>\u001b[0;34m()\u001b[0m\n\u001b[0;32m----> 1\u001b[0;31m \u001b[0mf\u001b[0m \u001b[0;34m=\u001b[0m \u001b[0minterpolate\u001b[0m\u001b[0;34m.\u001b[0m\u001b[0minterp1d\u001b[0m\u001b[0;34m(\u001b[0m\u001b[0mx\u001b[0m\u001b[0;34m,\u001b[0m\u001b[0mrestest\u001b[0m\u001b[0;34m,\u001b[0m\u001b[0mkind\u001b[0m\u001b[0;34m=\u001b[0m\u001b[0;34m'cubic'\u001b[0m\u001b[0;34m,\u001b[0m\u001b[0mfill_value\u001b[0m\u001b[0;34m=\u001b[0m\u001b[0;34m'extrapolate'\u001b[0m\u001b[0;34m)\u001b[0m\u001b[0;34m\u001b[0m\u001b[0m\n\u001b[0m",
      "\u001b[0;31mNameError\u001b[0m: name 'x' is not defined"
     ]
    }
   ],
   "source": [
    "f = interpolate.interp1d(x,restest,kind='cubic',fill_value='extrapolate')"
   ]
  },
  {
   "cell_type": "code",
   "execution_count": 53,
   "metadata": {},
   "outputs": [
    {
     "ename": "NameError",
     "evalue": "name 'f' is not defined",
     "output_type": "error",
     "traceback": [
      "\u001b[0;31m---------------------------------------------------------------------------\u001b[0m",
      "\u001b[0;31mNameError\u001b[0m                                 Traceback (most recent call last)",
      "\u001b[0;32m<ipython-input-53-e8b033f5529e>\u001b[0m in \u001b[0;36m<module>\u001b[0;34m()\u001b[0m\n\u001b[0;32m----> 1\u001b[0;31m \u001b[0mplt\u001b[0m\u001b[0;34m.\u001b[0m\u001b[0mplot\u001b[0m\u001b[0;34m(\u001b[0m\u001b[0mf\u001b[0m\u001b[0;34m(\u001b[0m\u001b[0mnp\u001b[0m\u001b[0;34m.\u001b[0m\u001b[0marange\u001b[0m\u001b[0;34m(\u001b[0m\u001b[0;36m20\u001b[0m\u001b[0;34m)\u001b[0m\u001b[0;34m)\u001b[0m\u001b[0;34m)\u001b[0m\u001b[0;34m\u001b[0m\u001b[0m\n\u001b[0m\u001b[1;32m      2\u001b[0m \u001b[0mplt\u001b[0m\u001b[0;34m.\u001b[0m\u001b[0mplot\u001b[0m\u001b[0;34m(\u001b[0m\u001b[0mrestest\u001b[0m\u001b[0;34m,\u001b[0m\u001b[0;34m'.'\u001b[0m\u001b[0;34m)\u001b[0m\u001b[0;34m\u001b[0m\u001b[0m\n",
      "\u001b[0;31mNameError\u001b[0m: name 'f' is not defined"
     ]
    }
   ],
   "source": [
    "plt.plot(f(np.arange(20)))\n",
    "plt.plot(restest,'.')"
   ]
  },
  {
   "cell_type": "code",
   "execution_count": null,
   "metadata": {},
   "outputs": [],
   "source": []
  }
 ],
 "metadata": {
  "kernelspec": {
   "display_name": "Python 3",
   "language": "python",
   "name": "python3"
  },
  "language_info": {
   "codemirror_mode": {
    "name": "ipython",
    "version": 3
   },
   "file_extension": ".py",
   "mimetype": "text/x-python",
   "name": "python",
   "nbconvert_exporter": "python",
   "pygments_lexer": "ipython3",
   "version": "3.6.5"
  }
 },
 "nbformat": 4,
 "nbformat_minor": 2
}
