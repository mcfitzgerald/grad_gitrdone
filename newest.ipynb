{
 "cells": [
  {
   "cell_type": "code",
   "execution_count": 1,
   "metadata": {},
   "outputs": [],
   "source": [
    "import numpy as np\n",
    "import scipy as sp\n",
    "from scipy import optimize\n",
    "from scipy import stats\n",
    "import matplotlib.pyplot as plt\n",
    "%matplotlib inline"
   ]
  },
  {
   "cell_type": "code",
   "execution_count": 2,
   "metadata": {},
   "outputs": [],
   "source": [
    "def dilser(low=0.001, limit=100., dilfactor=2.):\n",
    "    '''returns a numpy array dilution series from low to limit'''\n",
    "    #replace this with a generator/iterator someday\n",
    "    a = [low]\n",
    "    while a[-1] <= limit:\n",
    "        a.append(a[len(a)-1]*dilfactor)\n",
    "    return np.array(a)"
   ]
  },
  {
   "cell_type": "code",
   "execution_count": 3,
   "metadata": {},
   "outputs": [],
   "source": [
    "lig_concs = dilser()"
   ]
  },
  {
   "cell_type": "code",
   "execution_count": 4,
   "metadata": {},
   "outputs": [],
   "source": [
    "def k1solv(var,parm,rtot,ltot):\n",
    "    \n",
    "    k1 = parm\n",
    "    \n",
    "    (L,R,RL) = var\n",
    "    \n",
    "    eq1 = R + RL - rtot\n",
    "    eq2 = L + RL - ltot\n",
    "    eq3 = k1 * R * L - RL\n",
    "    \n",
    "    return np.array([eq1,eq2,eq3])"
   ]
  },
  {
   "cell_type": "code",
   "execution_count": 5,
   "metadata": {},
   "outputs": [],
   "source": [
    "def lognuniform(low=0, high=1, size=None, base=np.exp(1)):\n",
    "    return np.power(base, np.random.uniform(low, high, size))"
   ]
  },
  {
   "cell_type": "code",
   "execution_count": 6,
   "metadata": {},
   "outputs": [],
   "source": [
    "def guessgen(length,lowmag=-3,himag=3,base=10):\n",
    "    return tuple(lognuniform(low=lowmag,high=himag,base=base) for i in range(length))"
   ]
  },
  {
   "cell_type": "code",
   "execution_count": 7,
   "metadata": {},
   "outputs": [],
   "source": [
    "guesses = [guessgen(3) for i in range(500)]"
   ]
  },
  {
   "cell_type": "code",
   "execution_count": 8,
   "metadata": {},
   "outputs": [],
   "source": [
    "res = [[sp.optimize.root(k1solv,i,args=(2.0,0.1,j),method='lm',options={'factor':0.1,'ftol':1e-14,'gtol':1e-14,'xtol':1e-14}).x for j in lig_concs] for i in guesses]"
   ]
  },
  {
   "cell_type": "code",
   "execution_count": 9,
   "metadata": {},
   "outputs": [],
   "source": [
    "resc = np.array(res)"
   ]
  },
  {
   "cell_type": "code",
   "execution_count": 10,
   "metadata": {},
   "outputs": [],
   "source": [
    "L = np.array([stats.mode(resc[:,i,0])[0][0] for i in range(18)])\n",
    "R = np.array([stats.mode(resc[:,i,1])[0][0] for i in range(18)])\n",
    "RL = np.array([stats.mode(resc[:,i,2])[0][0] for i in range(18)])"
   ]
  },
  {
   "cell_type": "code",
   "execution_count": 11,
   "metadata": {},
   "outputs": [
    {
     "data": {
      "text/plain": [
       "[<matplotlib.lines.Line2D at 0x10fbd2e80>]"
      ]
     },
     "execution_count": 11,
     "metadata": {},
     "output_type": "execute_result"
    },
    {
     "data": {
      "image/png": "[encoded data removed]",
      "text/plain": [
       "<Figure size 432x288 with 1 Axes>"
      ]
     },
     "metadata": {},
     "output_type": "display_data"
    }
   ],
   "source": [
    "plt.semilogx(L,RL,'.')\n",
    "plt.semilogx(lig_concs,RL,'.')"
   ]
  },
  {
   "cell_type": "code",
   "execution_count": 12,
   "metadata": {},
   "outputs": [],
   "source": [
    "def k2solv(var,parm,rtot,ltot):\n",
    "    \n",
    "    k1 = parm[0]\n",
    "    k2 = parm[1]\n",
    "    \n",
    "    (L,R,RL,RLL) = var\n",
    "    \n",
    "    eq1 = (R + RL + RLL) - rtot\n",
    "    eq2 = (L + RL + 2*RLL) - ltot\n",
    "    eq3 = (k1*R*L) - RL\n",
    "    eq4 = (k2*k1*R*L*L) - RLL\n",
    "    \n",
    "    return np.array([eq1,eq2,eq3,eq4])"
   ]
  },
  {
   "cell_type": "code",
   "execution_count": 13,
   "metadata": {},
   "outputs": [],
   "source": [
    "parmk2 = np.array([4.,1.])"
   ]
  },
  {
   "cell_type": "code",
   "execution_count": 14,
   "metadata": {},
   "outputs": [],
   "source": [
    "k2guesses = [guessgen(4) for i in range(100)]\n",
    "resk2 = [[optimize.root(k2solv,i,args=(parmk2,0.1,j),method='lm',options={'factor':0.1,'ftol':1e-14,'gtol':1e-14,'xtol':1e-14}).x for j in lig_concs] for i in k2guesses]"
   ]
  },
  {
   "cell_type": "code",
   "execution_count": 15,
   "metadata": {},
   "outputs": [],
   "source": [
    "k2resc = np.array(resk2)"
   ]
  },
  {
   "cell_type": "code",
   "execution_count": 16,
   "metadata": {},
   "outputs": [],
   "source": [
    "def find_best_root(data,max_lig_index,target_index,lig_max):\n",
    "    \"\"\"Returns \"most reasonable\" root solution from array of solutions\n",
    "    based on known variables\n",
    "    \n",
    "    data -- the array of root solutions for a given binding equation\n",
    "    max_lig_index -- length of starting ligand concentrations array\n",
    "    target_index -- index of target solution in root solution tuple\n",
    "    lig_max -- total receptor concentration used for solution\n",
    "    \"\"\"\n",
    "    holder = []\n",
    "    for i in range(max_lig_index):\n",
    "        temp = np.around(data[:,i,target_index],decimals=8)\n",
    "        holder.append(sp.stats.mode(np.extract(((temp > 0)&(temp < lig_max)),temp))[0][0])\n",
    "    return np.array(holder)"
   ]
  },
  {
   "cell_type": "code",
   "execution_count": 17,
   "metadata": {},
   "outputs": [],
   "source": [
    "dL = find_best_root(k2resc,18,0,150)\n",
    "dR = find_best_root(k2resc,18,1,150)\n",
    "dRL = find_best_root(k2resc,18,2,150)\n",
    "dRLL = find_best_root(k2resc,18,3,150)"
   ]
  },
  {
   "cell_type": "code",
   "execution_count": 18,
   "metadata": {},
   "outputs": [
    {
     "data": {
      "text/plain": [
       "[<matplotlib.lines.Line2D at 0x10fe9c940>]"
      ]
     },
     "execution_count": 18,
     "metadata": {},
     "output_type": "execute_result"
    },
    {
     "data": {
      "image/png": "[encoded data removed]",
      "text/plain": [
       "<Figure size 432x288 with 1 Axes>"
      ]
     },
     "metadata": {},
     "output_type": "display_data"
    }
   ],
   "source": [
    "plt.semilogx(dL,((dRL + 2*dRLL)/(dR + dRL + dRLL))/2,'x')\n",
    "plt.semilogx(L,RL/0.1,'.')"
   ]
  },
  {
   "cell_type": "code",
   "execution_count": 19,
   "metadata": {},
   "outputs": [
    {
     "data": {
      "text/plain": [
       "[<matplotlib.lines.Line2D at 0x10fec5550>]"
      ]
     },
     "execution_count": 19,
     "metadata": {},
     "output_type": "execute_result"
    },
    {
     "data": {
      "image/png": "[encoded data removed]",
      "text/plain": [
       "<Figure size 432x288 with 1 Axes>"
      ]
     },
     "metadata": {},
     "output_type": "display_data"
    }
   ],
   "source": [
    "plt.plot((dRL + 2*dRLL),((dRL + 2*dRLL)/dL),'.')"
   ]
  },
  {
   "cell_type": "code",
   "execution_count": 20,
   "metadata": {},
   "outputs": [
    {
     "data": {
      "text/plain": [
       "[<matplotlib.lines.Line2D at 0x1100d09e8>]"
      ]
     },
     "execution_count": 20,
     "metadata": {},
     "output_type": "execute_result"
    },
    {
     "data": {
      "image/png": "[encoded data removed]",
      "text/plain": [
       "<Figure size 432x288 with 1 Axes>"
      ]
     },
     "metadata": {},
     "output_type": "display_data"
    }
   ],
   "source": [
    "plt.semilogy(dRL,'o')\n",
    "plt.semilogy(dRLL,'o')"
   ]
  },
  {
   "cell_type": "code",
   "execution_count": 21,
   "metadata": {},
   "outputs": [],
   "source": [
    "def wymsol(var,parm,rtot,ltot):\n",
    "    \n",
    "    k11 = parm[0]\n",
    "    k21 = parm[1]\n",
    "    k22 = parm[2]\n",
    "    l20 = parm[3]\n",
    "    \n",
    "    (L, M, MM, ML, MML, MMLL) = var\n",
    "    \n",
    "    eq1 = (M + 2*MM + ML + 2*MML + 2*MMLL) - rtot\n",
    "    eq2 = (L + ML + MML + 2*MMLL) - ltot\n",
    "    eq3 = (l20 * M*M) - MM\n",
    "    eq4 = (k11 * L * M) - ML\n",
    "    eq5 = (l20 * k21 * M*M * L) - MML\n",
    "    eq6 = (k22 * L * MML) - MMLL\n",
    "    \n",
    "    return np.array([eq1,eq2,eq3,eq4,eq5,eq6])"
   ]
  },
  {
   "cell_type": "code",
   "execution_count": 22,
   "metadata": {},
   "outputs": [],
   "source": [
    "rtotwym = np.array([1e-4,1e-3,1e-2,1e-1,1e0])\n",
    "parmwym = np.array([20.,4.,0.1,500.])\n",
    "wymguesses = [guessgen(6) for i in range(100)]"
   ]
  },
  {
   "cell_type": "code",
   "execution_count": 23,
   "metadata": {},
   "outputs": [],
   "source": [
    "reswym = [[[optimize.root(wymsol,i,args=(parmwym,q,j),method='lm',options={'factor':0.1,'ftol':1e-14,'gtol':1e-14,'xtol':1e-14}).x for j in lig_concs] for i in wymguesses] for q in rtotwym]"
   ]
  },
  {
   "cell_type": "code",
   "execution_count": 24,
   "metadata": {},
   "outputs": [],
   "source": [
    "wymar = np.array(reswym)"
   ]
  },
  {
   "cell_type": "code",
   "execution_count": 25,
   "metadata": {},
   "outputs": [
    {
     "data": {
      "text/plain": [
       "(100, 18, 6)"
      ]
     },
     "execution_count": 25,
     "metadata": {},
     "output_type": "execute_result"
    }
   ],
   "source": [
    "wymar[0].shape"
   ]
  },
  {
   "cell_type": "code",
   "execution_count": 26,
   "metadata": {},
   "outputs": [
    {
     "data": {
      "text/plain": [
       "(100, 18, 4)"
      ]
     },
     "execution_count": 26,
     "metadata": {},
     "output_type": "execute_result"
    }
   ],
   "source": [
    "k2resc.shape"
   ]
  },
  {
   "cell_type": "code",
   "execution_count": 27,
   "metadata": {},
   "outputs": [],
   "source": [
    "wymL_0 = find_best_root(wymar[1],18,0,150)\n",
    "wymM_0 = find_best_root(wymar[1],18,1,150)\n",
    "wymMM_0 = find_best_root(wymar[1],18,2,150)\n",
    "wymML_0 = find_best_root(wymar[1],18,3,150)\n",
    "wymMML_0 = find_best_root(wymar[1],18,4,150)\n",
    "wymMMLL_0 = find_best_root(wymar[1],18,5,150)"
   ]
  },
  {
   "cell_type": "code",
   "execution_count": 208,
   "metadata": {},
   "outputs": [
    {
     "data": {
      "text/plain": [
       "[<matplotlib.lines.Line2D at 0x114aa6ef0>]"
      ]
     },
     "execution_count": 208,
     "metadata": {},
     "output_type": "execute_result"
    },
    {
     "data": {
      "image/png": "[encoded data removed]",
      "text/plain": [
       "<Figure size 432x288 with 1 Axes>"
      ]
     },
     "metadata": {},
     "output_type": "display_data"
    }
   ],
   "source": [
    "#plt.semilogy(wymL_0,'.')\n",
    "#plt.semilogy(wymM_0,'.')\n",
    "plt.semilogy(wymMM_0,'.') #this one\n",
    "#plt.semilogy(wymML_0,'.')\n",
    "#plt.semilogy(wymMML_0,'.')\n",
    "plt.semilogy(wymMMLL_0,'.') #this one"
   ]
  },
  {
   "cell_type": "code",
   "execution_count": 29,
   "metadata": {},
   "outputs": [
    {
     "data": {
      "text/plain": [
       "array([ -1.20745106e+01,  -1.20765777e+01,  -2.00000000e-08,\n",
       "        -7.00000000e-08,   1.00000000e-08,   9.99999999e-09,\n",
       "         1.38777878e-17,   2.77555756e-17,  -9.99999994e-09,\n",
       "        -9.99999994e-09,   9.99999994e-09,   4.44089210e-16,\n",
       "         9.99999905e-09,   0.00000000e+00,  -1.00000008e-08,\n",
       "        -9.99999372e-09,  -9.99999372e-09,  -9.99997951e-09])"
      ]
     },
     "execution_count": 29,
     "metadata": {},
     "output_type": "execute_result"
    }
   ],
   "source": [
    "lig_concs - (wymL_0 + wymML_0 + wymMML_0 + 2*wymMMLL_0)"
   ]
  },
  {
   "cell_type": "code",
   "execution_count": 30,
   "metadata": {},
   "outputs": [
    {
     "data": {
      "text/plain": [
       "ModeResult(mode=array([ 0.00018724]), count=array([50]))"
      ]
     },
     "execution_count": 30,
     "metadata": {},
     "output_type": "execute_result"
    }
   ],
   "source": [
    "sp.stats.mode(wymar[1][:,0,2])"
   ]
  },
  {
   "cell_type": "code",
   "execution_count": 154,
   "metadata": {},
   "outputs": [],
   "source": [
    "def find_best_root2(data,max_lig_index,target_index,lig_max):\n",
    "    \"\"\"Returns \"most reasonable\" root solution from array of solutions\n",
    "    based on known variables\n",
    "    \n",
    "    data -- the array of root solutions for a given binding equation\n",
    "    max_lig_index -- length of starting ligand concentrations array\n",
    "    target_index -- index of target solution in root solution tuple\n",
    "    lig_max -- total receptor concentration used for solution\n",
    "    \"\"\"\n",
    "    holder = []\n",
    "    for i in range(max_lig_index):\n",
    "        temp = data[:,i,target_index]\n",
    "        try:\n",
    "            sp.stats.mode(temp)[0][0] > 0\n",
    "            holder.append(sp.stats.mode(temp)[0][0])\n",
    "        except: print('negative root encountered')\n",
    "        \n",
    "        \n",
    "    return np.array(holder)"
   ]
  },
  {
   "cell_type": "code",
   "execution_count": 155,
   "metadata": {},
   "outputs": [],
   "source": [
    "wymL_0_br2 = find_best_root2(wymar[1],18,0,150)"
   ]
  },
  {
   "cell_type": "code",
   "execution_count": 217,
   "metadata": {},
   "outputs": [],
   "source": [
    "br2_wymL_0 = find_best_root2(wymar[0],18,0,150)\n",
    "br2_wymM_0 = find_best_root2(wymar[0],18,1,150)\n",
    "br2_wymMM_0 = find_best_root2(wymar[0],18,2,150)\n",
    "br2_wymML_0 = find_best_root2(wymar[0],18,3,150)\n",
    "br2_wymMML_0 = find_best_root2(wymar[0],18,4,150)\n",
    "br2_wymMMLL_0 = find_best_root2(wymar[0],18,5,150)"
   ]
  },
  {
   "cell_type": "code",
   "execution_count": 218,
   "metadata": {},
   "outputs": [
    {
     "data": {
      "text/plain": [
       "[<matplotlib.lines.Line2D at 0x114f67f98>]"
      ]
     },
     "execution_count": 218,
     "metadata": {},
     "output_type": "execute_result"
    },
    {
     "data": {
      "image/png": "[encoded data removed]",
      "text/plain": [
       "<Figure size 432x288 with 1 Axes>"
      ]
     },
     "metadata": {},
     "output_type": "display_data"
    }
   ],
   "source": [
    "#plt.semilogy(br2_wymL_0,'.')\n",
    "#plt.semilogy(br2_wymM_0,'.')\n",
    "plt.semilogy(br2_wymMM_0,'.') #this one\n",
    "#plt.semilogy(br2_wymML_0,'.')\n",
    "#plt.semilogy(br2_wymMML_0,'.')\n",
    "plt.semilogy(br2_wymMMLL_0,'.') #this one"
   ]
  },
  {
   "cell_type": "code",
   "execution_count": 233,
   "metadata": {},
   "outputs": [],
   "source": [
    "def smdev(ys,win=5,poly=3):\n",
    "    smoothed = signal.savgol_filter(ys,window_length=win,polyorder=poly)\n",
    "    rmse = np.sqrt(np.mean((((ys-smoothed)/ys)**2)))\n",
    "    return rmse"
   ]
  },
  {
   "cell_type": "code",
   "execution_count": 226,
   "metadata": {},
   "outputs": [
    {
     "data": {
      "text/plain": [
       "[<matplotlib.lines.Line2D at 0x1155bd7f0>]"
      ]
     },
     "execution_count": 226,
     "metadata": {},
     "output_type": "execute_result"
    },
    {
     "data": {
      "image/png": "[encoded data removed]",
      "text/plain": [
       "<Figure size 432x288 with 1 Axes>"
      ]
     },
     "metadata": {},
     "output_type": "display_data"
    }
   ],
   "source": [
    "plt.plot(br2_wymMM_0,'.')\n",
    "plt.plot(signal.savgol_filter(br2_wymMM_0,window_length=5,polyorder=3))"
   ]
  },
  {
   "cell_type": "code",
   "execution_count": 234,
   "metadata": {},
   "outputs": [
    {
     "name": "stdout",
     "output_type": "stream",
     "text": [
      "0.0205231217485\n",
      "0.0119658193605\n",
      "6506.99020819\n",
      "0.00470482860718\n",
      "0.011878520007\n",
      "36726493.3428\n"
     ]
    }
   ],
   "source": [
    "for i in [wymL_0, wymM_0, wymMM_0, wymML_0, wymMML_0, wymMMLL_0]:\n",
    "    print(smdev(i))"
   ]
  },
  {
   "cell_type": "code",
   "execution_count": null,
   "metadata": {},
   "outputs": [],
   "source": []
  },
  {
   "cell_type": "code",
   "execution_count": 215,
   "metadata": {},
   "outputs": [
    {
     "name": "stdout",
     "output_type": "stream",
     "text": [
      "0.0204291867372\n",
      "0.0124073856445\n",
      "0.433475616276\n",
      "0.00297725194427\n",
      "0.0138310077127\n",
      "0.153006241592\n"
     ]
    }
   ],
   "source": [
    "for i in [br2_wymL_0, br2_wymM_0, br2_wymMM_0, br2_wymML_0, br2_wymMML_0, br2_wymMMLL_0]:\n",
    "    print(smdev(i))"
   ]
  },
  {
   "cell_type": "code",
   "execution_count": 83,
   "metadata": {},
   "outputs": [
    {
     "data": {
      "text/plain": [
       "(100, 18, 6)"
      ]
     },
     "execution_count": 83,
     "metadata": {},
     "output_type": "execute_result"
    }
   ],
   "source": [
    "wymar[0].shape"
   ]
  },
  {
   "cell_type": "code",
   "execution_count": null,
   "metadata": {},
   "outputs": [],
   "source": []
  },
  {
   "cell_type": "code",
   "execution_count": 105,
   "metadata": {},
   "outputs": [],
   "source": [
    "roots = wymar[0][:,6,4]\n",
    "unes = np.unique(roots,return_counts=True,return_index=True)"
   ]
  },
  {
   "cell_type": "code",
   "execution_count": 106,
   "metadata": {},
   "outputs": [],
   "source": [
    "linked = np.stack((unes[2],unes[0]),axis=1)"
   ]
  },
  {
   "cell_type": "code",
   "execution_count": 107,
   "metadata": {},
   "outputs": [
    {
     "data": {
      "text/plain": [
       "array([[  1.00000000e+00,  -1.25753070e+01],\n",
       "       [  2.00000000e+00,  -8.10671239e+00],\n",
       "       [  3.00000000e+00,  -8.10671239e+00],\n",
       "       [  1.00000000e+00,   2.35007131e-07],\n",
       "       [  3.00000000e+00,   2.35007131e-07],\n",
       "       [  1.30000000e+01,   2.35007131e-07],\n",
       "       [  2.60000000e+01,   2.35007131e-07],\n",
       "       [  2.30000000e+01,   2.35007131e-07],\n",
       "       [  1.50000000e+01,   2.35007131e-07],\n",
       "       [  1.00000000e+00,   1.54907827e-05],\n",
       "       [  1.00000000e+00,   7.30380442e-05],\n",
       "       [  1.00000000e+00,   7.63112948e-05],\n",
       "       [  2.00000000e+00,   4.64147292e-04],\n",
       "       [  4.00000000e+00,   4.64147292e-04],\n",
       "       [  2.00000000e+00,   4.64147292e-04],\n",
       "       [  2.00000000e+00,   4.64147292e-04]])"
      ]
     },
     "execution_count": 107,
     "metadata": {},
     "output_type": "execute_result"
    }
   ],
   "source": [
    "linked"
   ]
  },
  {
   "cell_type": "code",
   "execution_count": 108,
   "metadata": {},
   "outputs": [
    {
     "data": {
      "text/plain": [
       "(array([ -1.25753070e+01,  -8.10671239e+00,  -8.10671239e+00,\n",
       "          2.35007131e-07,   2.35007131e-07,   2.35007131e-07,\n",
       "          2.35007131e-07,   2.35007131e-07,   2.35007131e-07,\n",
       "          1.54907827e-05,   7.30380442e-05,   7.63112948e-05,\n",
       "          4.64147292e-04,   4.64147292e-04,   4.64147292e-04,\n",
       "          4.64147292e-04]),\n",
       " array([38, 64, 27, 17, 44,  2,  4,  0,  1,  7, 74, 22, 72,  9, 45, 11]),\n",
       " array([ 1,  2,  3,  1,  3, 13, 26, 23, 15,  1,  1,  1,  2,  4,  2,  2]))"
      ]
     },
     "execution_count": 108,
     "metadata": {},
     "output_type": "execute_result"
    }
   ],
   "source": [
    "unes"
   ]
  },
  {
   "cell_type": "code",
   "execution_count": 164,
   "metadata": {},
   "outputs": [],
   "source": [
    "import numpy as np\n",
    "\n",
    "def outliers_modified_z_score(ys):\n",
    "    threshold = 5\n",
    "\n",
    "    median_y = np.median(ys)\n",
    "    median_absolute_deviation_y = np.median([np.abs(y - median_y) for y in ys])\n",
    "    modified_z_scores = [0.6745 * (y - median_y) / median_absolute_deviation_y\n",
    "                         for y in ys]\n",
    "    return np.where(np.abs(modified_z_scores) > threshold)"
   ]
  },
  {
   "cell_type": "code",
   "execution_count": 148,
   "metadata": {},
   "outputs": [
    {
     "data": {
      "text/plain": [
       "(array([], dtype=int64),)"
      ]
     },
     "execution_count": 148,
     "metadata": {},
     "output_type": "execute_result"
    }
   ],
   "source": [
    "outliers_modified_z_score(br2_wymMML_0)"
   ]
  },
  {
   "cell_type": "code",
   "execution_count": 149,
   "metadata": {},
   "outputs": [
    {
     "data": {
      "text/plain": [
       "(array([0, 1]),)"
      ]
     },
     "execution_count": 149,
     "metadata": {},
     "output_type": "execute_result"
    }
   ],
   "source": [
    "outliers_modified_z_score(wymMMLL_0)"
   ]
  },
  {
   "cell_type": "code",
   "execution_count": 119,
   "metadata": {},
   "outputs": [
    {
     "data": {
      "text/plain": [
       "2.3500713053199924e-07"
      ]
     },
     "execution_count": 119,
     "metadata": {},
     "output_type": "execute_result"
    }
   ],
   "source": [
    "br2_wymMML_0[6]"
   ]
  },
  {
   "cell_type": "code",
   "execution_count": 113,
   "metadata": {},
   "outputs": [
    {
     "data": {
      "text/plain": [
       "[<matplotlib.lines.Line2D at 0x1112ca550>]"
      ]
     },
     "execution_count": 113,
     "metadata": {},
     "output_type": "execute_result"
    },
    {
     "data": {
      "image/png": "[encoded data removed]",
      "text/plain": [
       "<Figure size 432x288 with 1 Axes>"
      ]
     },
     "metadata": {},
     "output_type": "display_data"
    }
   ],
   "source": [
    "plt.plot(br2_wymMML_0,'.')\n",
    "plt.plot(6,br2_wymMML_0[6],'o')"
   ]
  },
  {
   "cell_type": "code",
   "execution_count": 114,
   "metadata": {},
   "outputs": [],
   "source": [
    "from scipy import signal"
   ]
  },
  {
   "cell_type": "code",
   "execution_count": 153,
   "metadata": {},
   "outputs": [
    {
     "data": {
      "text/plain": [
       "[<matplotlib.lines.Line2D at 0x11178be48>]"
      ]
     },
     "execution_count": 153,
     "metadata": {},
     "output_type": "execute_result"
    },
    {
     "data": {
      "image/png": "[encoded data removed]",
      "text/plain": [
       "<Figure size 432x288 with 1 Axes>"
      ]
     },
     "metadata": {},
     "output_type": "display_data"
    }
   ],
   "source": [
    "plt.semilogy(wymMMLL_0,'.')\n",
    "#plt.plot(signal.medfilt(wymMMLL_0,kern),'x')"
   ]
  },
  {
   "cell_type": "code",
   "execution_count": 116,
   "metadata": {},
   "outputs": [
    {
     "data": {
      "text/plain": [
       "2.19792841320861e-07"
      ]
     },
     "execution_count": 116,
     "metadata": {},
     "output_type": "execute_result"
    }
   ],
   "source": [
    "signal.medfilt(br2_wymMML_0)[6]"
   ]
  },
  {
   "cell_type": "code",
   "execution_count": 117,
   "metadata": {},
   "outputs": [
    {
     "data": {
      "text/plain": [
       "2.3500713053199924e-07"
      ]
     },
     "execution_count": 117,
     "metadata": {},
     "output_type": "execute_result"
    }
   ],
   "source": [
    "br2_wymMML_0[6]"
   ]
  },
  {
   "cell_type": "code",
   "execution_count": null,
   "metadata": {},
   "outputs": [],
   "source": []
  }
 ],
 "metadata": {
  "kernelspec": {
   "display_name": "Python 3",
   "language": "python",
   "name": "python3"
  },
  "language_info": {
   "codemirror_mode": {
    "name": "ipython",
    "version": 3
   },
   "file_extension": ".py",
   "mimetype": "text/x-python",
   "name": "python",
   "nbconvert_exporter": "python",
   "pygments_lexer": "ipython3",
   "version": "3.6.5"
  }
 },
 "nbformat": 4,
 "nbformat_minor": 2
}
