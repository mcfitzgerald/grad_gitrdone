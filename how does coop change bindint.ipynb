{
 "cells": [
  {
   "cell_type": "code",
   "execution_count": 1,
   "metadata": {},
   "outputs": [],
   "source": [
    "import numpy as np\n",
    "import scipy as sp\n",
    "from scipy import optimize\n",
    "from scipy import stats\n",
    "from scipy import signal\n",
    "import matplotlib.pyplot as plt\n",
    "%matplotlib inline"
   ]
  },
  {
   "cell_type": "code",
   "execution_count": 2,
   "metadata": {},
   "outputs": [],
   "source": [
    "def dilser(low=0.001, limit=100., dilfactor=2.):\n",
    "    '''returns a numpy array dilution series from low to limit'''\n",
    "    #replace this with a generator/iterator someday\n",
    "    a = [low]\n",
    "    while a[-1] <= limit:\n",
    "        a.append(a[len(a)-1]*dilfactor)\n",
    "    return np.array(a)"
   ]
  },
  {
   "cell_type": "code",
   "execution_count": 280,
   "metadata": {},
   "outputs": [],
   "source": [
    "def binterval(k):\n",
    "    '''takes apparent binding constent and builds lig series around it (2 log intervals on either end)'''\n",
    "    low = (1/k)/100\n",
    "    limit = (1/k)*100\n",
    "    return dilser(low=low,limit=limit)"
   ]
  },
  {
   "cell_type": "code",
   "execution_count": 281,
   "metadata": {},
   "outputs": [],
   "source": [
    "def lognuniform(low=0, high=1, size=None, base=np.exp(1)):\n",
    "    return np.power(base, np.random.uniform(low, high, size))"
   ]
  },
  {
   "cell_type": "code",
   "execution_count": 282,
   "metadata": {},
   "outputs": [],
   "source": [
    "def guessgen(length,lowmag=-3,himag=3,base=10):\n",
    "    return tuple(lognuniform(low=lowmag,high=himag,base=base) for i in range(length))"
   ]
  },
  {
   "cell_type": "code",
   "execution_count": 283,
   "metadata": {},
   "outputs": [],
   "source": [
    "def colroots(data,ligs): \n",
    "    holder = []\n",
    "    for i in range(len(ligs)):\n",
    "        temp = data[:,i]\n",
    "        roots,counts = np.unique(temp,return_counts=True)\n",
    "        posroots = roots[roots>0]\n",
    "        poscounts = counts[roots>0]\n",
    "        clctd = np.stack((posroots,poscounts),axis=1)\n",
    "        clctd = clctd[(-1*clctd[:,1]).argsort()]\n",
    "        holder.append(clctd[:3]) #only take top 3 (or fewer) guesses\n",
    "    return holder"
   ]
  },
  {
   "cell_type": "code",
   "execution_count": 379,
   "metadata": {},
   "outputs": [],
   "source": [
    "lig_concs = binterval(10)\n",
    "lrng = lig_concs.shape[0]"
   ]
  },
  {
   "cell_type": "code",
   "execution_count": 380,
   "metadata": {},
   "outputs": [],
   "source": [
    "def k2solv(var,parm,rtot,ltot):\n",
    "    \n",
    "    k1 = parm[0]\n",
    "    k2 = parm[1]\n",
    "    \n",
    "    (L,R,RL,RLL) = var\n",
    "    \n",
    "    eq1 = (R + RL + RLL) - rtot\n",
    "    eq2 = (L + RL + 2*RLL) - ltot\n",
    "    eq3 = (k1*R*L) - RL\n",
    "    eq4 = (k2*k1*R*L*L) - RLL\n",
    "    \n",
    "    return np.array([eq1,eq2,eq3,eq4])"
   ]
  },
  {
   "cell_type": "code",
   "execution_count": 400,
   "metadata": {},
   "outputs": [],
   "source": [
    "parmk2 = np.array([10.,1.])"
   ]
  },
  {
   "cell_type": "code",
   "execution_count": 401,
   "metadata": {},
   "outputs": [],
   "source": [
    "k2guesses = [guessgen(4) for i in range(100)]\n",
    "resk2 = np.array([[optimize.root(k2solv,i,args=(parmk2,0.01,j),method='lm',options={'factor':0.1,'ftol':1e-14,'gtol':1e-14,'xtol':1e-14}).x for j in lig_concs] for i in k2guesses])"
   ]
  },
  {
   "cell_type": "code",
   "execution_count": 402,
   "metadata": {},
   "outputs": [],
   "source": [
    "rootbag_k2 = [colroots(resk2[:,:,j],lig_concs) for j in range(4)]"
   ]
  },
  {
   "cell_type": "code",
   "execution_count": 403,
   "metadata": {},
   "outputs": [],
   "source": [
    "dL = np.array([rootbag_k2[0][i][0][0] for i in range(lrng)])\n",
    "dR = np.array([rootbag_k2[1][i][0][0] for i in range(lrng)])\n",
    "dRL = np.array([rootbag_k2[2][i][0][0] for i in range(lrng)])\n",
    "dRLL = np.array([rootbag_k2[3][i][0][0] for i in range(lrng)])"
   ]
  },
  {
   "cell_type": "code",
   "execution_count": 404,
   "metadata": {},
   "outputs": [
    {
     "data": {
      "text/plain": [
       "[<matplotlib.lines.Line2D at 0x1186ff7f0>]"
      ]
     },
     "execution_count": 404,
     "metadata": {},
     "output_type": "execute_result"
    },
    {
     "data": {
      "image/png": "[encoded data removed]",
      "text/plain": [
       "<Figure size 432x288 with 1 Axes>"
      ]
     },
     "metadata": {},
     "output_type": "display_data"
    }
   ],
   "source": [
    "plt.semilogx(dL,((dRL + 2*dRLL)/(dR + dRL + dRLL))/2,'x')"
   ]
  },
  {
   "cell_type": "code",
   "execution_count": 405,
   "metadata": {},
   "outputs": [
    {
     "data": {
      "text/plain": [
       "[<matplotlib.lines.Line2D at 0x118973d30>]"
      ]
     },
     "execution_count": 405,
     "metadata": {},
     "output_type": "execute_result"
    },
    {
     "data": {
      "image/png": "[encoded data removed]",
      "text/plain": [
       "<Figure size 432x288 with 1 Axes>"
      ]
     },
     "metadata": {},
     "output_type": "display_data"
    }
   ],
   "source": [
    "plt.plot((dRL + 2*dRLL),((dRL + 2*dRLL)/dL),'.')"
   ]
  },
  {
   "cell_type": "code",
   "execution_count": 399,
   "metadata": {},
   "outputs": [
    {
     "data": {
      "text/plain": [
       "array([  1.00000000e-03,   2.00000000e-03,   4.00000000e-03,\n",
       "         8.00000000e-03,   1.60000000e-02,   3.20000000e-02,\n",
       "         6.40000000e-02,   1.28000000e-01,   2.56000000e-01,\n",
       "         5.12000000e-01,   1.02400000e+00,   2.04800000e+00,\n",
       "         4.09600000e+00,   8.19200000e+00,   1.63840000e+01])"
      ]
     },
     "execution_count": 399,
     "metadata": {},
     "output_type": "execute_result"
    }
   ],
   "source": [
    "lig_concs"
   ]
  },
  {
   "cell_type": "code",
   "execution_count": 413,
   "metadata": {},
   "outputs": [],
   "source": [
    "def avroots(data,ligs): \n",
    "    holder = []\n",
    "    for i in range(len(ligs)):\n",
    "        temp = data[:,i]\n",
    "        roots,counts = np.unique(temp,return_counts=True)\n",
    "        posroots = roots[roots>0]\n",
    "\n",
    "    return posroots"
   ]
  },
  {
   "cell_type": "code",
   "execution_count": 414,
   "metadata": {},
   "outputs": [
    {
     "data": {
      "text/plain": [
       "[array([ 16.36458272]),\n",
       " array([  3.51785478e-06,   3.51785478e-06,   3.51785478e-06,\n",
       "          3.51785478e-06,   2.50821375e+00,   2.50821375e+00,\n",
       "          2.50821375e+00,   2.50821375e+00]),\n",
       " array([  5.75682256e-04,   5.75682256e-04,   2.13009978e+01,\n",
       "          2.13009978e+01,   2.13009978e+01]),\n",
       " array([  9.42079989e-03,   9.42079989e-03,   9.42079989e-03,\n",
       "          1.97700264e+01,   1.97700264e+01])]"
      ]
     },
     "execution_count": 414,
     "metadata": {},
     "output_type": "execute_result"
    }
   ],
   "source": [
    "[avroots(resk2[:,:,j],lig_concs) for j in range(4)]"
   ]
  },
  {
   "cell_type": "code",
   "execution_count": 439,
   "metadata": {},
   "outputs": [
    {
     "data": {
      "text/plain": [
       "(100, 15, 4)"
      ]
     },
     "execution_count": 439,
     "metadata": {},
     "output_type": "execute_result"
    }
   ],
   "source": [
    "resk2.shape"
   ]
  },
  {
   "cell_type": "code",
   "execution_count": 448,
   "metadata": {},
   "outputs": [],
   "source": [
    "avroots = np.array([[np.mean(resk2[:,i,k][resk2[:,i,k]>0]) for i in range(lrng)] for k in range(4)])"
   ]
  },
  {
   "cell_type": "code",
   "execution_count": 449,
   "metadata": {},
   "outputs": [],
   "source": [
    "dLAV = avroots[0] \n",
    "dRAV = avroots[1]\n",
    "dRLAV = avroots[2]\n",
    "dRLLAV = avroots[3]"
   ]
  },
  {
   "cell_type": "code",
   "execution_count": 450,
   "metadata": {},
   "outputs": [
    {
     "data": {
      "text/plain": [
       "[<matplotlib.lines.Line2D at 0x11898d438>]"
      ]
     },
     "execution_count": 450,
     "metadata": {},
     "output_type": "execute_result"
    },
    {
     "data": {
      "image/png": "[encoded data removed]",
      "text/plain": [
       "<Figure size 432x288 with 1 Axes>"
      ]
     },
     "metadata": {},
     "output_type": "display_data"
    }
   ],
   "source": [
    "plt.semilogx(dLAV,((dRLAV + 2*dRLLAV)/(dRAV + dRLAV + dRLLAV))/2,'o')\n",
    "plt.semilogx(dL,((dRL + 2*dRLL)/(dR + dRL + dRLL))/2,'x')"
   ]
  },
  {
   "cell_type": "code",
   "execution_count": 451,
   "metadata": {},
   "outputs": [
    {
     "data": {
      "text/plain": [
       "array([  9.09687998e-04,   1.82055452e-03,   3.64573136e-03,\n",
       "         7.30924799e-03,   1.46844471e-02,   2.95972655e-02,\n",
       "         5.98973182e-02,   1.21604697e-01,   2.46956322e-01,\n",
       "         5.00233517e-01,   1.00968155e+00,   2.03156547e+00,\n",
       "         4.07805591e+00,   8.17311533e+00,   1.63645827e+01])"
      ]
     },
     "execution_count": 451,
     "metadata": {},
     "output_type": "execute_result"
    }
   ],
   "source": [
    "dL"
   ]
  },
  {
   "cell_type": "code",
   "execution_count": 452,
   "metadata": {},
   "outputs": [
    {
     "data": {
      "text/plain": [
       "array([  9.09687998e-04,   1.82055452e-03,   3.64573136e-03,\n",
       "         7.30924799e-03,   1.46844471e-02,   2.95972655e-02,\n",
       "         5.98973182e-02,   1.21604697e-01,   2.46956322e-01,\n",
       "         5.00233517e-01,   1.00968155e+00,   2.03156547e+00,\n",
       "         4.07805591e+00,   8.17311533e+00,   1.63645827e+01])"
      ]
     },
     "execution_count": 452,
     "metadata": {},
     "output_type": "execute_result"
    }
   ],
   "source": [
    "avroots[0]"
   ]
  },
  {
   "cell_type": "code",
   "execution_count": 453,
   "metadata": {},
   "outputs": [
    {
     "data": {
      "text/plain": [
       "array([  9.90977001e-03,   9.82088002e-03,   9.64701358e-03,\n",
       "         9.31422413e-03,   8.70321412e-03,   7.66440551e-03,\n",
       "         6.11676886e-03,   4.23025445e-03,   2.45131836e-03,\n",
       "         1.17582445e-03,   4.69673555e-04,   1.59774431e-04,\n",
       "         4.80570628e-05,   1.33203807e-05,   3.51785478e-06])"
      ]
     },
     "execution_count": 453,
     "metadata": {},
     "output_type": "execute_result"
    }
   ],
   "source": [
    "dR"
   ]
  },
  {
   "cell_type": "code",
   "execution_count": 459,
   "metadata": {},
   "outputs": [
    {
     "data": {
      "text/plain": [
       "array([ 0.19424093,  0.19445797,  0.19489245,  0.19576293,  0.19750931,\n",
       "        0.20101989,  0.21032497,  0.22685556,  0.25561745,  0.33385549,\n",
       "        0.48154137,  0.76028114,  1.38927274,  2.31506446,  3.60225819])"
      ]
     },
     "execution_count": 459,
     "metadata": {},
     "output_type": "execute_result"
    }
   ],
   "source": [
    "avroots[3]"
   ]
  },
  {
   "cell_type": "code",
   "execution_count": 456,
   "metadata": {},
   "outputs": [
    {
     "data": {
      "text/plain": [
       "array([  9.01479884e-05,   1.78794475e-04,   3.51704200e-04,\n",
       "         6.80799740e-04,   1.27801888e-03,   2.26845444e-03,\n",
       "         3.66378051e-03,   5.14418811e-03,   6.05368568e-03,\n",
       "         5.88186802e-03,   4.74220725e-03,   3.24592217e-03,\n",
       "         1.95979389e-03,   1.08869008e-03,   5.75682256e-04])"
      ]
     },
     "execution_count": 456,
     "metadata": {},
     "output_type": "execute_result"
    }
   ],
   "source": [
    "dRL"
   ]
  },
  {
   "cell_type": "code",
   "execution_count": null,
   "metadata": {},
   "outputs": [],
   "source": []
  }
 ],
 "metadata": {
  "kernelspec": {
   "display_name": "Python 3",
   "language": "python",
   "name": "python3"
  },
  "language_info": {
   "codemirror_mode": {
    "name": "ipython",
    "version": 3
   },
   "file_extension": ".py",
   "mimetype": "text/x-python",
   "name": "python",
   "nbconvert_exporter": "python",
   "pygments_lexer": "ipython3",
   "version": "3.6.5"
  }
 },
 "nbformat": 4,
 "nbformat_minor": 2
}
